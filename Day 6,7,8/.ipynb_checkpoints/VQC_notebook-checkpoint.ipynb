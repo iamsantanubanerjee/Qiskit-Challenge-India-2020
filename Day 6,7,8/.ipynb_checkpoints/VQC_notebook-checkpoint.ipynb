{
 "cells": [
  {
   "cell_type": "markdown",
   "metadata": {},
   "source": [
    "<img src=\"https://s3-ap-southeast-1.amazonaws.com/he-public-data/wordmark_black65ee464.png\" width=\"700\">"
   ]
  },
  {
   "cell_type": "markdown",
   "metadata": {},
   "source": [
    "# Variational Quantum Classifier"
   ]
  },
  {
   "cell_type": "markdown",
   "metadata": {},
   "source": [
    "## Contents\n",
    "\n",
    "1. [Introduction](#intro)    \n",
    "    1.1  [Data Pre-Processing](#pre-process)\n",
    "2. [Classification on a Quantum Computer](#vqc)    \n",
    "    2.1 [Loading Data onto the Quantum Computer](#feature-maps)    \n",
    "    2.2 [Building the Circuit that Classifies](#var-forms)      \n",
    "    2.3 [Measurement and Assigning a Binary Label](#validate)      \n",
    "    2.4 [Classical optimization loop](#classical-optimization)    \n",
    "3. [Classifying Digits 0 and 1](#full)\n"
   ]
  },
  {
   "cell_type": "markdown",
   "metadata": {},
   "source": [
    "## 1. Introduction <a id=\"intro\"></a>"
   ]
  },
  {
   "cell_type": "markdown",
   "metadata": {},
   "source": [
    "### 1.1 Data Pre-Processing <a id=\"pre-process\"></a>"
   ]
  },
  {
   "cell_type": "markdown",
   "metadata": {},
   "source": [
    "Similar to classical machine learning we employ various pre-processing techniques on the classical dataset before its fed into the quantum computer. This helps us work with larger and more complex datasets with the quantum computers we have today. The dataset we're going to work with today will be a subset of the popular handwritten digits dataset, the **[MNIST](http://yann.lecun.com/exdb/mnist/) dataset**. You can read more about it on the wikipedia page [here](https://en.wikipedia.org/wiki/MNIST_database)."
   ]
  },
  {
   "cell_type": "code",
   "execution_count": 1,
   "metadata": {},
   "outputs": [],
   "source": [
    "# installing a few dependencies\n",
    "!pip install --upgrade seaborn==0.10.1\n",
    "!pip install --upgrade scikit-learn==0.23.1\n",
    "!pip install --upgrade matplotlib==3.2.0\n",
    "!pip install --upgrade pandas==1.0.4\n",
    "!pip install --upgrade qiskit==0.19.6 \n",
    "\n",
    "# the output will be cleared after installation\n",
    "from IPython.display import clear_output\n",
    "clear_output()"
   ]
  },
  {
   "cell_type": "markdown",
   "metadata": {},
   "source": [
    "Lets start by importing the dataset which you can download [here](http://yann.lecun.com/exdb/mnist/) or use the one present in the directory in a .csv file format.\n",
    "\n",
    "**IMPORTANT:**\n",
    "* If you are using this notebook by cloning the repo Qiskit-Challenge-India/2020 you will have to first **unzip the dataset `mnist_train.csv.zip` to `mnist_train.csv`** before you can run the code below."
   ]
  },
  {
   "cell_type": "code",
   "execution_count": 2,
   "metadata": {},
   "outputs": [],
   "source": [
    "# importing some useful modules\n",
    "import numpy as np\n",
    "%matplotlib inline\n",
    "import matplotlib.pyplot as plt\n",
    "\n",
    "image_size = 28 # width and length are equal\n",
    "\n",
    "# Working directory:\n",
    "\n",
    "#- VQC_notebook.ipynb\n",
    "#- dataset\n",
    "#----mnist_train.csv\n",
    "#----mnist_test.csv\n",
    "\n",
    "# In case our working directory is not in the same confirguration as given above, change the data_path variable to point to the dataset\n",
    "data_path = \"./dataset/\"\n",
    "train_data = np.loadtxt(data_path + \"mnist_train.csv\", delimiter=\",\")\n",
    "test_data = np.loadtxt(data_path + \"mnist_test.csv\", delimiter=\",\") "
   ]
  },
  {
   "cell_type": "code",
   "execution_count": 3,
   "metadata": {
    "scrolled": true
   },
   "outputs": [
    {
     "name": "stdout",
     "output_type": "stream",
     "text": [
      "Number of training datapoints: 60000\n",
      "Number of testing datapoints: 10000\n"
     ]
    }
   ],
   "source": [
    "print(\"Number of training datapoints: {}\".format(train_data.shape[0]))\n",
    "print(\"Number of testing datapoints: {}\".format(test_data.shape[0]))"
   ]
  },
  {
   "cell_type": "markdown",
   "metadata": {},
   "source": [
    "Before we move forward lets take a closer look at the structure of the training dataset:\n",
    "\n",
    "* There are a total of **60,000 datapoints** (rows in train_data) corresponding to digits ranging from `0` to `9`\n",
    "* The first column has the **label** of the datapoint ranging from `0` to `9`\n",
    "* The next 784 columns/features are each a 28 $\\times$ 28 grayscale image collapsed into a row. Therefore, the **dimension of the data is 784**. Each of these values range from 0 to 275 where **0 corresponds to white** and **255 corresponds to black**\n",
    "\n",
    "The testing dataset is also of the same format with just lesser datapoints. \n",
    "\n",
    "Here's an example of a datapoint with label `0`. "
   ]
  },
  {
   "cell_type": "code",
   "execution_count": 4,
   "metadata": {},
   "outputs": [
    {
     "data": {
      "image/png": "[encoded data removed]",
      "text/plain": [
       "<Figure size 432x288 with 1 Axes>"
      ]
     },
     "metadata": {
      "needs_background": "light"
     },
     "output_type": "display_data"
    }
   ],
   "source": [
    "img = train_data[:, 1:][1].reshape((image_size, image_size))\n",
    "plt.imshow(img, cmap=\"Greys\")\n",
    "plt.show()"
   ]
  },
  {
   "cell_type": "markdown",
   "metadata": {},
   "source": [
    "As we will learn in the next section, dimension of the data is equal to the number of qubits we require to encode the data for the quantum feature maps we will use. As quantum computers or simulators today generally cannot work with large number of qubits, encoding data with dimension 784 is not possible. Hence, we resort to **classical dimensionality reduction techniques**. Precisely, we apply *truncated Singular Value Decomposition (SVD)* and *t-distributed stochastic neighbor embedding (t-SNE)* methods which are dimension reduction techniques to reduce the dimension down to 2 for the sake of this example. Knowledge of SVD and t-SNE is not required going forward and these dimensionality reduction methods are given only for your reference. The choice of these specific dimensionality reduction techniques has been adapted from [this](http://www.cse.chalmers.se/~richajo/dit866/lectures/l9/MNIST%20dimensionality%20reduction.html) resource and tweaking it for our specific problem. If you'd like to learn more about dimensionality reduction for the MNIST dataset you can read [Colah's blog](https://colah.github.io/posts/2014-10-Visualizing-MNIST/).\n",
    "\n",
    "As the number of training and testing samples we require will be very less, we only work with the training dataset going forward and extract training, testing and validation datasets from it when required. As we don't need a lot of training datapoints and t-SNE is computationally expensive we will only apply t-SNE on the first 10,000 datapoints. Note that as we develop larger quantum hardware in the future, the need for expensive classical pre-processing steps will be reduced."
   ]
  },
  {
   "cell_type": "code",
   "execution_count": 5,
   "metadata": {},
   "outputs": [],
   "source": [
    "# Extracting the features and labels from the dataset and shortening the dataset to 10,000 datapoints\n",
    "train_data_features = train_data[:10000, 1:]\n",
    "train_data_labels = train_data[:10000, :1].reshape(10000,)"
   ]
  },
  {
   "cell_type": "code",
   "execution_count": 6,
   "metadata": {},
   "outputs": [],
   "source": [
    "from sklearn.decomposition import TruncatedSVD\n",
    "from sklearn.manifold import TSNE\n",
    "\n",
    "# Using SVD to bring down the dimension to 10\n",
    "tsvd = TruncatedSVD(n_components=10)\n",
    "X_SVD = tsvd.fit_transform(train_data_features)\n",
    "\n",
    "# Further using t-SNE to bring the dimension down to 2\n",
    "np.random.seed(0)\n",
    "tsne = TSNE(n_components=2)\n",
    "train_data_features_reduced = tsne.fit_transform(X_SVD)"
   ]
  },
  {
   "cell_type": "code",
   "execution_count": 7,
   "metadata": {},
   "outputs": [
    {
     "name": "stdout",
     "output_type": "stream",
     "text": [
      "Dimension of the reduced dataset: 2\n"
     ]
    }
   ],
   "source": [
    "print(\"Dimension of the reduced dataset: {}\".format(train_data_features_reduced.shape[1]))"
   ]
  },
  {
   "cell_type": "markdown",
   "metadata": {},
   "source": [
    "Lets plot out the dataset to see if the labels are interpretable, i.e show some sort of clustering in the reduced dataset. For this we are creating a pandas dataframe and using seaborn to plot the data. "
   ]
  },
  {
   "cell_type": "code",
   "execution_count": 8,
   "metadata": {},
   "outputs": [],
   "source": [
    "import seaborn as sns\n",
    "import pandas as pd\n",
    "\n",
    "# function to help plot the 2-D dataset\n",
    "def plot2d(X, Y, c1, c2, N):\n",
    "    lbl1 = f'Component {c1}'\n",
    "    lbl2 = f'Component {c2}'    \n",
    "    df = pd.DataFrame({lbl1:X[:N,c1], lbl2:X[:N,c2], 'label':Y[:N]})\n",
    "    sns.lmplot(data=df, x=lbl1, y=lbl2, fit_reg=False, hue='label', scatter_kws={'alpha':0.5})   "
   ]
  },
  {
   "cell_type": "code",
   "execution_count": 9,
   "metadata": {},
   "outputs": [
    {
     "data": {
      "image/png": "[encoded data removed]",
      "text/plain": [
       "<Figure size 411.875x360 with 1 Axes>"
      ]
     },
     "metadata": {
      "needs_background": "light"
     },
     "output_type": "display_data"
    }
   ],
   "source": [
    "plot2d(train_data_features_reduced, train_data_labels, 0, 1, N=2000)"
   ]
  },
  {
   "cell_type": "markdown",
   "metadata": {},
   "source": [
    "As we can see, datapoints corresponding to labels such as `0` and `1` are well separated, however, ambiguous datapoints such as those corresponding to `4` and `9` are overlapping. This makes sense as even when observed by a naked eye `0` and `1` are easily distinguishable however `4` and `9` may not always be as they both have a vertical line towards the bottom and a loop-like structure on top. \n",
    "\n",
    "Though there are methods to convert SVMs into multiclass classifiers they are inherently binary classifiers. Thus, we will start by extracting datapoints corresponsing to the digits `0` and `1` from the reduced dataset and normalize their features to be between 0 and 2. Normalization is done as the values will be inserted into the quantum feature map as angles in radians. You can try different normalizations and see how it changes our output, however, during the final challenge a pre-normalised dataset will be provided to you.  "
   ]
  },
  {
   "cell_type": "code",
   "execution_count": 10,
   "metadata": {},
   "outputs": [],
   "source": [
    "zero_datapoints = []\n",
    "one_datapoints = []\n",
    "for i in range(10000):\n",
    "    if train_data_labels[i] == 0:                   # extracting zeros\n",
    "        zero_datapoints.append(train_data_features_reduced[i])\n",
    "\n",
    "for i in range(10000):\n",
    "    if train_data_labels[i] == 1:                   # extracting ones\n",
    "        one_datapoints.append(train_data_features_reduced[i])\n",
    "        \n",
    "zero_datapoints = np.array(zero_datapoints)\n",
    "one_datapoints = np.array(one_datapoints)\n",
    "\n",
    "def normalize(arr, max_val, n):\n",
    "    a = np.divide(arr, max_val)\n",
    "    return a + n\n",
    "\n",
    "zero_datapoints_normalized = normalize(zero_datapoints, 100, 1)\n",
    "one_datapoints_normalized = normalize(one_datapoints, 100, 1)"
   ]
  },
  {
   "cell_type": "markdown",
   "metadata": {},
   "source": [
    "## 2. Classification on a Quantum Computer <a id=\"vqc\"></a>\n",
    "\n",
    "There are multiple methods for classifying a dataset using a quantum computer, however, today we will concentrate on a method called the **Variational Quantum Classifier (VQC)** as proposed in the paper [Havlicek et.al](https://arxiv.org/abs/1804.11326) [1]. The paper also proposes another method called the the **Kernel Estimation Method** which may be interesting for those curious. \n",
    "\n",
    "Similar to classical machine learning the VQC algorithm has a **training stage** (where datapoints with labels are provided and learning takes place) and a **testing stage** (where new datapoints without labels are provided which are then classified). Each of these stages in VQC are a four step process: \n",
    "\n",
    "* **Loading Data onto the Quantum Computer** (Apply Feature Map)\n",
    "* **Building the Circuit that Classifies** (Variational Circuit) \n",
    "* **Measurement and Assigning a Binary Label**\n",
    "* Assign binary label\n",
    "\n",
    "![vqc](./images/vqc.png)"
   ]
  },
  {
   "cell_type": "markdown",
   "metadata": {},
   "source": [
    "Through the course of this notebook we will look at each of these steps and gain an understanding on how the VQC algorithm works using the inbuilt `VQC` algorithm in Qiskit Aqua. Further, we will look at how we can use the `VQC` class in Qiskit Aqua to classify `0`'s and `1`'s along with customization of the algorithm to your needs. "
   ]
  },
  {
   "cell_type": "markdown",
   "metadata": {},
   "source": [
    "### 2.1 Loading Data onto the Quantum Computer <a id=\"feature-maps\"></a>\n",
    "\n",
    "Check out the qiskit-community tutorial on custom feature maps [here](https://github.com/qiskit-community/qiskit-community-tutorials/blob/master/machine_learning/custom_feature_map.ipynb) from which this section has been adapted. It has a few extra details on how to configure a custom `data map function` $\\phi_S$ which might be interesting when working with the inbuilt **quantum feature maps** (or Data Encoding Circuits) in Qiskit. \n",
    "\n",
    "The idea of quantum feature maps comes from the theory of kernels in classical machine learning where a dataset is mapped non-linearly onto a higher dimensional space where a hyperplane can be found that classifies it. \n",
    "\n",
    "As the name suggests, a **quantum feature map $\\phi(\\vec{x})$** is a map from the classical feature vector $\\vec{x}$ to the quantum state $|\\Phi(\\vec{x})\\rangle\\langle\\Phi(\\vec{x})|$, a vector in Hilbert space. This is faciliated by applying the unitary operation $\\mathcal{U}_{\\Phi(\\vec{x})}$ on the initial state $|0\\rangle^{n}$ where _n_ is the number of qubits being used for encoding. By doing this process we have now blown up the dimension of our feature space and the task of our classifier is to find a separating hyperlane in this new space.\n",
    "\n",
    "Constructing feature maps based on quantum circuits that are hard to simulate classically is an important step towards obtaining a quantum advantage over classical approaches. The authors of [[1]](https://arxiv.org/abs/1804.11326) proposed a family of feature maps that is conjectured (recently proved by another group) to be hard to simulate classically and that can be implemented as short-depth circuits on near-term quantum devices. The quantum feature map of depth $d$ is implemented by the unitary operator \n",
    "\n",
    "$$ \\mathcal{U}_{\\Phi(\\mathbf{x})}=\\prod_d U_{\\Phi(\\mathbf{x})}H^{\\otimes n},\\ U_{\\Phi(\\mathbf{x})}=\\exp\\left(i\\sum_{S\\subseteq[n]}\\phi_S(\\mathbf{x})\\prod_{k\\in S} P_k\\right) $$\n",
    "\n",
    "which contains layers of Hadamard gates interleaved with entangling blocks encoding the classical data as shown in circuit diagram below for $d=2$.\n",
    "\n",
    "<img src=\"./images/uphi.PNG\" width=\"400\" />\n",
    "\n",
    "The number of qubits $n$ in the quantum circuit is equal to the dimensionality of the classical data $\\mathbf{x}$ in these feature encodings, which are encoded through the coefficients $\\phi_S(\\mathbf{x})$, where $S \\subseteq[n] = \\{1, \\ldots, n \\}$. We call the $r$-th order expansion the feature map of this circuit family when $|S|\\leq r$. In Terra, the default is the second order expansion $|S|\\leq 2$ used in [[1]](https://arxiv.org/abs/1804.11326), which gives $n$ singeltons $S=\\{i\\}$ and, depending on the connectivity graph of the quantum device, up to $\\frac{n(n-1)}{2}$ couples to encode entangling interactions. The greater the upper bound $r$, the more interactions will be taken into account.\n",
    "\n",
    "Only contributions from $Z$ and $ZZ$ gates in the entangling blocks are considered in [[1]](https://arxiv.org/abs/1804.11326). In general, the blocks can be expressed in terms of the Pauli gates $P_k \\in \\{\\mathbb{1}_k, X_k, Y_k, Z_k \\}$.\n",
    "\n",
    "In the Terra circuit library, the circuit depth $d$, coefficients $\\phi_S$, entanglement, and gates $P_k$ are mutable for Variational Quantum Classifier. As discussed in [[1]](https://arxiv.org/abs/1804.11326), the depth $d=1$ circuit can be efficiently simulated classically by uniform sampling, while the $d=2$ variant is conjectured to be hard to simulate classically."
   ]
  },
  {
   "cell_type": "markdown",
   "metadata": {},
   "source": [
    "### Using Feature Maps from the Terra Circuit Library\n",
    "\n",
    "We will now learn how to configure inbuilt quantum feature maps in Qiskit Terra by modifing the `circuit depth` $d$, `entanglement`, and gates $P_k$. Documentation on the quantum feature maps in Terra can be found in the [Circuit Library](https://qiskit.org/documentation/apidoc/circuit_library.html) under the \"Data Encoding Circuits\" section. \n",
    "\n",
    "We'll see how to build quantum feature maps inbuilt in Qiskit and a method to build your own custom feature map. A feature map is essentially a variational circuit and Qiskit Terra's circuit library has numerous variational circuits one could use for building their quantum feature map. However, the circuits specific to the data preparation step used in the paper [[1]](https://arxiv.org/abs/1804.11326) are : \n",
    "\n",
    "* ZFeatureMap\n",
    "* ZZFeatureMap\n",
    "* PauliFeatureMap\n",
    "\n",
    "These are also the feature maps that are available in Qiskit. Lets start by importing what is required."
   ]
  },
  {
   "cell_type": "code",
   "execution_count": 11,
   "metadata": {},
   "outputs": [],
   "source": [
    "from qiskit import *\n",
    "import numpy as np\n",
    "\n",
    "import time\n",
    "from qiskit.circuit.library import ZZFeatureMap, ZFeatureMap, PauliFeatureMap\n",
    "from qiskit.aqua.utils import split_dataset_to_data_and_labels, map_label_to_class_name\n",
    "from qiskit.aqua import QuantumInstance\n",
    "from qiskit.aqua.algorithms import VQC"
   ]
  },
  {
   "cell_type": "markdown",
   "metadata": {},
   "source": [
    "### ZFeatureMap"
   ]
  },
  {
   "cell_type": "markdown",
   "metadata": {},
   "source": [
    "A first order diagonal expansion is implemented using the `ZFeatureMap` feature map where $|S|=1$. The resulting circuit contains no interactions between features of the encoded data, and therefore no entanglement. The feature map can take the following inputs:\n",
    "\n",
    "- `feature_dimension`: dimensionality of the classical data (equal to the number of required qubits)\n",
    "- `reps`: number of times $d$ the feature map circuit is repeated\n",
    "- `data_map_func`: function $\\phi_S(\\mathbf{x})$ encoding the classical data.\n",
    "\n",
    "The default setting `data_map_func = self_product()` for the `ZFeatureMap` has $S = \\{i\\}$ and is given by \n",
    "\n",
    "$$\\phi_S:x\\mapsto x_i.$$"
   ]
  },
  {
   "cell_type": "code",
   "execution_count": 12,
   "metadata": {},
   "outputs": [
    {
     "data": {
      "text/html": [
       "<pre style=\"word-wrap: normal;white-space: pre;background: #fff0;line-height: 1.1;font-family: &quot;Courier New&quot;,Courier,monospace\">     ┌───┐┌──────────────┐┌───┐┌──────────────┐┌───┐┌──────────────┐┌───┐»\n",
       "q_0: ┤ H ├┤ U1(2.0*x[0]) ├┤ H ├┤ U1(2.0*x[0]) ├┤ H ├┤ U1(2.0*x[0]) ├┤ H ├»\n",
       "     ├───┤├──────────────┤├───┤├──────────────┤├───┤├──────────────┤├───┤»\n",
       "q_1: ┤ H ├┤ U1(2.0*x[1]) ├┤ H ├┤ U1(2.0*x[1]) ├┤ H ├┤ U1(2.0*x[1]) ├┤ H ├»\n",
       "     ├───┤├──────────────┤├───┤├──────────────┤├───┤├──────────────┤├───┤»\n",
       "q_2: ┤ H ├┤ U1(2.0*x[2]) ├┤ H ├┤ U1(2.0*x[2]) ├┤ H ├┤ U1(2.0*x[2]) ├┤ H ├»\n",
       "     └───┘└──────────────┘└───┘└──────────────┘└───┘└──────────────┘└───┘»\n",
       "«     ┌──────────────┐\n",
       "«q_0: ┤ U1(2.0*x[0]) ├\n",
       "«     ├──────────────┤\n",
       "«q_1: ┤ U1(2.0*x[1]) ├\n",
       "«     ├──────────────┤\n",
       "«q_2: ┤ U1(2.0*x[2]) ├\n",
       "«     └──────────────┘</pre>"
      ],
      "text/plain": [
       "     ┌───┐┌──────────────┐┌───┐┌──────────────┐┌───┐┌──────────────┐┌───┐»\n",
       "q_0: ┤ H ├┤ U1(2.0*x[0]) ├┤ H ├┤ U1(2.0*x[0]) ├┤ H ├┤ U1(2.0*x[0]) ├┤ H ├»\n",
       "     ├───┤├──────────────┤├───┤├──────────────┤├───┤├──────────────┤├───┤»\n",
       "q_1: ┤ H ├┤ U1(2.0*x[1]) ├┤ H ├┤ U1(2.0*x[1]) ├┤ H ├┤ U1(2.0*x[1]) ├┤ H ├»\n",
       "     ├───┤├──────────────┤├───┤├──────────────┤├───┤├──────────────┤├───┤»\n",
       "q_2: ┤ H ├┤ U1(2.0*x[2]) ├┤ H ├┤ U1(2.0*x[2]) ├┤ H ├┤ U1(2.0*x[2]) ├┤ H ├»\n",
       "     └───┘└──────────────┘└───┘└──────────────┘└───┘└──────────────┘└───┘»\n",
       "«     ┌──────────────┐\n",
       "«q_0: ┤ U1(2.0*x[0]) ├\n",
       "«     ├──────────────┤\n",
       "«q_1: ┤ U1(2.0*x[1]) ├\n",
       "«     ├──────────────┤\n",
       "«q_2: ┤ U1(2.0*x[2]) ├\n",
       "«     └──────────────┘"
      ]
     },
     "execution_count": 12,
     "metadata": {},
     "output_type": "execute_result"
    }
   ],
   "source": [
    "feature_dim = 3     # equal to the dimension of the data\n",
    "\n",
    "Z_feature_map = ZFeatureMap(feature_dimension=feature_dim, reps=4)\n",
    "Z_feature_map.draw()"
   ]
  },
  {
   "cell_type": "markdown",
   "metadata": {},
   "source": [
    "A good point to note at this point is that the `U1Gate` is an anti-clockwise rotation around the Z axis which changes the relative phase of a qubit, i.e, the $R_Z(\\phi)$ gate. And the reason why we see a factor of `2.0` inside all the gates, i.e, such as `U1(2.0*x[0])` is because $U_{\\Phi(\\mathbf{\\theta})}=\\exp\\left(i\\phi(\\mathbf{\\theta})Z_k\\right)$ and we know that $R_P(\\theta) = e^{(-i\\frac{\\theta}{2}P)}$ where $P$ is a Pauli X, Y or Z matrix."
   ]
  },
  {
   "cell_type": "code",
   "execution_count": 13,
   "metadata": {},
   "outputs": [
    {
     "name": "stdout",
     "output_type": "stream",
     "text": [
      "parameters of the Z Feature Map are: {Parameter(x[2]), Parameter(x[1]), Parameter(x[0])}\n"
     ]
    }
   ],
   "source": [
    "print(\"parameters of the Z Feature Map are: {}\".format(Z_feature_map.parameters))"
   ]
  },
  {
   "cell_type": "markdown",
   "metadata": {},
   "source": [
    "On playing around with the `feature_dim` attribute on `ZFeatureMap` we realize that for encoding data of dimension _d_ we require _d_ qubits. And this brings us to the reason why we applied dimension reduction techniques in the classical pre-processing step. Initially the data was of dimension 784 implying that we would require 784 qubits to encode it! Post the dimensionality reduction, we only require 2 qubits. We could however increase this dimension and test our accuracies - A good project to tinker on. \n",
    "\n",
    "The parameters $x[0], x[1]$ and $x[2]$ will be binded with the values of our feature vector $\\vec{x}$ during the implementation of our algorithm and thus becomes an immutable circuit. It is important to note that though we utilize variational circuits to build the Feature Map there is no learning of parameters taking place but the substitution of our data values.  "
   ]
  },
  {
   "cell_type": "markdown",
   "metadata": {},
   "source": [
    "### ZZFeatureMap"
   ]
  },
  {
   "cell_type": "markdown",
   "metadata": {},
   "source": [
    "The `ZZFeatureMap` feature map allows $|S|\\leq 2$, so interactions in the data will be encoded in the feature map according to the connectivity graph and the classical data map. `ZZFeatureMap` with default parameters is equivalent to the feature map described in [1] and can take the additional inputs:\n",
    "\n",
    "- `entanglement`: generates connectivity `'full'` or `'linear'` or defining your own entanglement structure (default value `'full'` indicates a complete connectivity graph of $\\frac{n(n-1)}{2}$ interactions)\n",
    "\n",
    "The default setting of the data map function in `ZZFeatureMap` is given by\n",
    "\n",
    "$$\\phi_S:x\\mapsto \\Bigg\\{\\begin{array}{ll}\n",
    "    x_i & \\mbox{if}\\ S=\\{i\\} \\\\\n",
    "        (\\pi-x_i)(\\pi-x_j) & \\mbox{if}\\ S=\\{i,j\\}\n",
    "    \\end{array}$$."
   ]
  },
  {
   "cell_type": "code",
   "execution_count": 14,
   "metadata": {},
   "outputs": [
    {
     "data": {
      "text/html": [
       "<pre style=\"word-wrap: normal;white-space: pre;background: #fff0;line-height: 1.1;font-family: &quot;Courier New&quot;,Courier,monospace\">     ┌───┐┌──────────────┐     »\n",
       "q_0: ┤ H ├┤ U1(2.0*x[0]) ├──■──»\n",
       "     ├───┤├──────────────┤┌─┴─┐»\n",
       "q_1: ┤ H ├┤ U1(2.0*x[1]) ├┤ X ├»\n",
       "     └───┘└──────────────┘└───┘»\n",
       "«                                                                         ┌───┐»\n",
       "«q_0: ─────────────────────────────────────────────────────────────────■──┤ H ├»\n",
       "«     ┌─────────────────────────────────────────────────────────────┐┌─┴─┐├───┤»\n",
       "«q_1: ┤ U1(2.0*(3.14159265358979 - x[0])*(3.14159265358979 - x[1])) ├┤ X ├┤ H ├»\n",
       "«     └─────────────────────────────────────────────────────────────┘└───┘└───┘»\n",
       "«     ┌──────────────┐     »\n",
       "«q_0: ┤ U1(2.0*x[0]) ├──■──»\n",
       "«     ├──────────────┤┌─┴─┐»\n",
       "«q_1: ┤ U1(2.0*x[1]) ├┤ X ├»\n",
       "«     └──────────────┘└───┘»\n",
       "«                                                                         \n",
       "«q_0: ─────────────────────────────────────────────────────────────────■──\n",
       "«     ┌─────────────────────────────────────────────────────────────┐┌─┴─┐\n",
       "«q_1: ┤ U1(2.0*(3.14159265358979 - x[0])*(3.14159265358979 - x[1])) ├┤ X ├\n",
       "«     └─────────────────────────────────────────────────────────────┘└───┘</pre>"
      ],
      "text/plain": [
       "     ┌───┐┌──────────────┐     »\n",
       "q_0: ┤ H ├┤ U1(2.0*x[0]) ├──■──»\n",
       "     ├───┤├──────────────┤┌─┴─┐»\n",
       "q_1: ┤ H ├┤ U1(2.0*x[1]) ├┤ X ├»\n",
       "     └───┘└──────────────┘└───┘»\n",
       "«                                                                         ┌───┐»\n",
       "«q_0: ─────────────────────────────────────────────────────────────────■──┤ H ├»\n",
       "«     ┌─────────────────────────────────────────────────────────────┐┌─┴─┐├───┤»\n",
       "«q_1: ┤ U1(2.0*(3.14159265358979 - x[0])*(3.14159265358979 - x[1])) ├┤ X ├┤ H ├»\n",
       "«     └─────────────────────────────────────────────────────────────┘└───┘└───┘»\n",
       "«     ┌──────────────┐     »\n",
       "«q_0: ┤ U1(2.0*x[0]) ├──■──»\n",
       "«     ├──────────────┤┌─┴─┐»\n",
       "«q_1: ┤ U1(2.0*x[1]) ├┤ X ├»\n",
       "«     └──────────────┘└───┘»\n",
       "«                                                                         \n",
       "«q_0: ─────────────────────────────────────────────────────────────────■──\n",
       "«     ┌─────────────────────────────────────────────────────────────┐┌─┴─┐\n",
       "«q_1: ┤ U1(2.0*(3.14159265358979 - x[0])*(3.14159265358979 - x[1])) ├┤ X ├\n",
       "«     └─────────────────────────────────────────────────────────────┘└───┘"
      ]
     },
     "execution_count": 14,
     "metadata": {},
     "output_type": "execute_result"
    }
   ],
   "source": [
    "feature_dim = 2\n",
    "\n",
    "ZZ_feature_map = ZZFeatureMap(feature_dimension=feature_dim, reps=2, insert_barriers=True)\n",
    "ZZ_feature_map.draw()"
   ]
  },
  {
   "cell_type": "code",
   "execution_count": 15,
   "metadata": {},
   "outputs": [
    {
     "name": "stdout",
     "output_type": "stream",
     "text": [
      "parameters of the Z Feature Map are: {Parameter(x[1]), Parameter(x[0])}\n"
     ]
    }
   ],
   "source": [
    "print(\"parameters of the Z Feature Map are: {}\".format(ZZ_feature_map.parameters))"
   ]
  },
  {
   "cell_type": "markdown",
   "metadata": {},
   "source": [
    "### PauliFeatureMap"
   ]
  },
  {
   "cell_type": "markdown",
   "metadata": {},
   "source": [
    "For some applications, we may want to consider a more general form of the feature map. One way to generalize is to use `PauliFeatureMap` and specify a set of Pauli gates instead of using the default $Z$ gates. This feature map has the same parameters as `ZFeatureMap` and `ZZFeatureMap` such as `reps` and `data_map_func` along with an additional `paulis` parameter to change the gate set. This parameter is a list of strings, each representing the desired Pauli gate(s). The default value is `['Z', 'ZZ']`, which is equivalent to `ZZFeatureMap`.\n",
    "\n",
    "\n",
    "Each string in `paulis` is implemented one at a time for each layer in the depth $d$ feature map circuit. A single character, for example `'Z'`, adds one layer of the corresponding single-qubit gates, while terms such as `'ZZ'` or `'XY'` add a layer of corresponding two-qubit entangling gates for each qubit pair available based on `entanglement`.\n",
    "\n",
    "For example, the choice `paulis = ['Z', 'Y', 'ZZ']` generates a quantum feature map of the form \n",
    "\n",
    "$$\\mathcal{U}_{\\Phi(\\mathbf{x})} = \\left( \\exp\\left(i\\sum_{jk} \\phi_{\\{j,k\\}}(\\mathbf{x}) \\, Z_j \\otimes Z_k\\right) \\, \\exp\\left(i\\sum_{j} \\phi_{\\{j\\}}(\\mathbf{x}) \\, Y_j\\right) \\, \\exp\\left(i\\sum_j \\phi_{\\{j\\}}(\\mathbf{x}) \\, Z_j\\right) \\, H^{\\otimes n} \\right)^d.$$ \n",
    "\n",
    "The depth $d=1$ version of this quantum circuit is shown in the figure below for $n=2$ qubits.\n",
    "\n",
    "\n",
    "<img src=\"./images/depth1.PNG\" width=\"400\"/>\n",
    "\n",
    "\n",
    "The circuit begins with a layer of Hadamard gates $H^{\\otimes n}$ followed by a layer of single-qubit $A = e^{i\\phi_{\\{j\\}}(\\mathbf{x})Z_j}$ gates and a layer of $B = e^{i\\phi_{\\{j\\}}(\\mathbf{x}) \\, Y_j}$ gates. The $A$ and $B$ gates are parametrized by the same set of angles $\\phi_{\\{j\\}}(\\mathbf{x})$ but around different axes. The diagonal entangling gate $e^{i \\phi_{\\{0,1\\}}(\\mathbf{x}) \\, Z_0 \\otimes Z_1}$ is parametrized by an angle $\\phi_{\\{0,1\\}}(\\mathbf{x})$ and can be implemented using two controlled-NOT gates and one $A'=e^{i\\phi_{\\{0,1\\}}(x)\\, Z_1}$ gate as shown in the figure.\n",
    "\n",
    "As a comparison, `paulis = ['Z', 'ZZ']` creates the same circuit as above but without the $B$ gates, while `paulis = ['Z', 'YY']` creates a circuit with a layer of $A$ gates followed by a layer of entangling gates $e^{i \\phi_{\\{0,1\\}}(\\mathbf{x}) \\, Y_0 \\otimes Y_1}$.\n",
    "\n",
    "Below, we test the `PauliFeatureMap` with `paulis=['Z', 'Y', 'ZZ']`."
   ]
  },
  {
   "cell_type": "code",
   "execution_count": 16,
   "metadata": {},
   "outputs": [
    {
     "data": {
      "text/html": [
       "<pre style=\"word-wrap: normal;white-space: pre;background: #fff0;line-height: 1.1;font-family: &quot;Courier New&quot;,Courier,monospace\">     ┌───┐┌──────────────┐┌───┐┌──────────────┐┌───┐┌──────────┐     »\n",
       "q_0: ┤ H ├┤ U1(2.0*x[0]) ├┤ H ├┤ U1(2.0*x[0]) ├┤ H ├┤ RX(pi/2) ├──■──»\n",
       "     ├───┤├──────────────┤├───┤├──────────────┤├───┤└──────────┘┌─┴─┐»\n",
       "q_1: ┤ H ├┤ U1(2.0*x[1]) ├┤ H ├┤ U1(2.0*x[1]) ├┤ H ├────────────┤ X ├»\n",
       "     └───┘└──────────────┘└───┘└──────────────┘└───┘            └───┘»\n",
       "«                                                                         »\n",
       "«q_0: ─────────────────────────────────────────────────────────────────■──»\n",
       "«     ┌─────────────────────────────────────────────────────────────┐┌─┴─┐»\n",
       "«q_1: ┤ U1(2.0*(3.14159265358979 - x[0])*(3.14159265358979 - x[1])) ├┤ X ├»\n",
       "«     └─────────────────────────────────────────────────────────────┘└───┘»\n",
       "«     ┌───────────┐\n",
       "«q_0: ┤ RX(-pi/2) ├\n",
       "«     └───────────┘\n",
       "«q_1: ─────────────\n",
       "«                  </pre>"
      ],
      "text/plain": [
       "     ┌───┐┌──────────────┐┌───┐┌──────────────┐┌───┐┌──────────┐     »\n",
       "q_0: ┤ H ├┤ U1(2.0*x[0]) ├┤ H ├┤ U1(2.0*x[0]) ├┤ H ├┤ RX(pi/2) ├──■──»\n",
       "     ├───┤├──────────────┤├───┤├──────────────┤├───┤└──────────┘┌─┴─┐»\n",
       "q_1: ┤ H ├┤ U1(2.0*x[1]) ├┤ H ├┤ U1(2.0*x[1]) ├┤ H ├────────────┤ X ├»\n",
       "     └───┘└──────────────┘└───┘└──────────────┘└───┘            └───┘»\n",
       "«                                                                         »\n",
       "«q_0: ─────────────────────────────────────────────────────────────────■──»\n",
       "«     ┌─────────────────────────────────────────────────────────────┐┌─┴─┐»\n",
       "«q_1: ┤ U1(2.0*(3.14159265358979 - x[0])*(3.14159265358979 - x[1])) ├┤ X ├»\n",
       "«     └─────────────────────────────────────────────────────────────┘└───┘»\n",
       "«     ┌───────────┐\n",
       "«q_0: ┤ RX(-pi/2) ├\n",
       "«     └───────────┘\n",
       "«q_1: ─────────────\n",
       "«                  "
      ]
     },
     "execution_count": 16,
     "metadata": {},
     "output_type": "execute_result"
    }
   ],
   "source": [
    "feature_dim = 2\n",
    "\n",
    "pauli_feature_map = PauliFeatureMap(feature_dimension=feature_dim, reps=1, paulis = ['Z','X','ZY'])\n",
    "pauli_feature_map.draw()"
   ]
  },
  {
   "cell_type": "markdown",
   "metadata": {},
   "source": [
    "These are the feature maps present in Qiskit and are the ones mentioned in the paper [[1]](https://arxiv.org/abs/1804.11326) as well. It is important to note that the feature maps used in the paper were designed with the aim for them to be hard to simulate on a classical computer and are not known to have a [kernel function](https://en.wikipedia.org/wiki/Kernel_method) for the dot product which can be efficiently computed classically. \n",
    "\n",
    "The dataset used in the paper was tailor-made to get a high classification accuracy with the quantum feature maps used. However, these feature maps may not perform well with other datasets. For a particular dataset, finding a quantum feature map that can spread the datapoints in Hilbert space in such a way that a hyperplane can be drawn to classify them is important to gain higher accuracies for our model. \n",
    "\n",
    "Further, it is important for the corresponding quantum feature map circuit to be shallow (i.e, have a small circuit depth) as decoherence will come into play and decrease our accuracies. Similarily having more 2-qubit gates will increase the error in the circuit thus leading to further decrease in accuracy. To understand more about errors in real quantum computers you can look at [this section](https://qiskit.org/textbook/ch-quantum-hardware/index-circuits.html) of the Qiskit textbook. This will not be required for the challenge going forward as we will only use local simulators. Creating such short depth feature maps for real-world datasets is an open problem and an active field of research in Quantum Machine Learning.\n",
    "\n",
    "As being able to construct tailor-made feature maps is important for increasing the accuracy we will look at a method to create your very own variational circuits in the following section. This can be used to create custom feature maps as well. "
   ]
  },
  {
   "cell_type": "markdown",
   "metadata": {},
   "source": [
    "### 2.2 Building the Circuit that Classifies <a id=\"var-forms\"></a>"
   ]
  },
  {
   "cell_type": "markdown",
   "metadata": {},
   "source": [
    "In this step we append a short depth [Variational Circuit](https://qiskit.org/documentation/tutorials/circuits_advanced/1_advanced_circuits.html) to the previously constructed feature map. The parameters of this variational circuit are then trained in the [classical optimization loop](#classical-optimization) until it classifies the datapoints correctly. This is the learning stage of the algorithm and accuracy of the model can vary based on the variational circuit one chooses. It is essential to choose a variational circuit of shorter depth (making it especially viable for implementations on real hardware), lesser number of parameters to train (faster training process) while making sure its [_Expressability and Entangling capacity_](https://arxiv.org/pdf/1905.10876.pdf) are enough to classify our dataset to the degree we want. Building variational circuits with such conflicting properties, similar to the study on quantum feature maps, is an active field of research.\n",
    "\n",
    "Coming to the implementation details, In Terra one can build variational circuits using multiple classes such as the `NLocal`, `RealAmplitudes` or the `FunctionalPauliRotations` class from the Terra circuit library. More variational forms can be found in the [documentation](https://qiskit.org/documentation/apidoc/circuit_library.html), [codebase](https://github.com/Qiskit/qiskit-terra/tree/master/qiskit/circuit/library)."
   ]
  },
  {
   "cell_type": "markdown",
   "metadata": {},
   "source": [
    "**Constructing using [`Real Amplitudes`](https://qiskit.org/documentation/stubs/qiskit.circuit.library.RealAmplitudes.html):**"
   ]
  },
  {
   "cell_type": "markdown",
   "metadata": {},
   "source": [
    "Let us create a variational circuit using the inbuilt `Real Amplitudes` method. Do check out the [documentation page](https://qiskit.org/documentation/stubs/qiskit.circuit.library.RealAmplitudes.html) to understand more about its working."
   ]
  },
  {
   "cell_type": "code",
   "execution_count": 17,
   "metadata": {},
   "outputs": [
    {
     "data": {
      "text/html": [
       "<pre style=\"word-wrap: normal;white-space: pre;background: #fff0;line-height: 1.1;font-family: &quot;Courier New&quot;,Courier,monospace\">     ┌──────────┐     ┌──────────┐     ┌──────────┐     ┌──────────┐\n",
       "q_0: ┤ RY(θ[0]) ├──■──┤ RY(θ[2]) ├──■──┤ RY(θ[4]) ├──■──┤ RY(θ[6]) ├\n",
       "     ├──────────┤┌─┴─┐├──────────┤┌─┴─┐├──────────┤┌─┴─┐├──────────┤\n",
       "q_1: ┤ RY(θ[1]) ├┤ X ├┤ RY(θ[3]) ├┤ X ├┤ RY(θ[5]) ├┤ X ├┤ RY(θ[7]) ├\n",
       "     └──────────┘└───┘└──────────┘└───┘└──────────┘└───┘└──────────┘</pre>"
      ],
      "text/plain": [
       "     ┌──────────┐     ┌──────────┐     ┌──────────┐     ┌──────────┐\n",
       "q_0: ┤ RY(θ[0]) ├──■──┤ RY(θ[2]) ├──■──┤ RY(θ[4]) ├──■──┤ RY(θ[6]) ├\n",
       "     ├──────────┤┌─┴─┐├──────────┤┌─┴─┐├──────────┤┌─┴─┐├──────────┤\n",
       "q_1: ┤ RY(θ[1]) ├┤ X ├┤ RY(θ[3]) ├┤ X ├┤ RY(θ[5]) ├┤ X ├┤ RY(θ[7]) ├\n",
       "     └──────────┘└───┘└──────────┘└───┘└──────────┘└───┘└──────────┘"
      ]
     },
     "execution_count": 17,
     "metadata": {},
     "output_type": "execute_result"
    }
   ],
   "source": [
    "from qiskit.circuit.library import RealAmplitudes\n",
    "\n",
    "num_qubits = 2\n",
    "\n",
    "classifier_circ = RealAmplitudes(num_qubits, entanglement='full', reps=3)\n",
    "classifier_circ.draw()"
   ]
  },
  {
   "cell_type": "markdown",
   "metadata": {},
   "source": [
    "**Constructing a Custom Variational Circuit/Feature Map:** "
   ]
  },
  {
   "cell_type": "markdown",
   "metadata": {},
   "source": [
    "Up until this point we have learnt how to create feature maps and variational circuits using inbuilt methods in Qiskit. Now, let's create a custom variational circuit which can be used either in the place of a `FeatureMap` or as a `VariationalCircuit`. \n",
    "\n",
    "Creating a custom variational circuit is simple. While creating a `QuantumCircuit`, in the place where you would normally insert an angle you now have to insert a [`Parameter`](https://qiskit.org/documentation/stubs/qiskit.circuit.Parameter.html) object and this transforms our circuit into a variational circuit. For the sake of convenience we could use [`ParameterVector`](https://qiskit.org/documentation/stubs/qiskit.circuit.ParameterVector.html) to create a list of Pararmeters. Here's an example:"
   ]
  },
  {
   "cell_type": "code",
   "execution_count": 18,
   "metadata": {},
   "outputs": [
    {
     "data": {
      "text/html": [
       "<pre style=\"word-wrap: normal;white-space: pre;background: #fff0;line-height: 1.1;font-family: &quot;Courier New&quot;,Courier,monospace\">     ┌──────────┐                                                           »\n",
       "q_0: ┤ RX(x[0]) ├──■─────────────────────■────■─────────────────────■───────»\n",
       "     ├──────────┤┌─┴─┐┌───────────────┐┌─┴─┐  │                     │       »\n",
       "q_1: ┤ RX(x[1]) ├┤ X ├┤ U1(x[0]*x[1]) ├┤ X ├──┼─────────────────────┼────■──»\n",
       "     ├──────────┤└───┘└───────────────┘└───┘┌─┴─┐┌───────────────┐┌─┴─┐┌─┴─┐»\n",
       "q_2: ┤ RX(x[2]) ├───────────────────────────┤ X ├┤ U1(x[0]*x[2]) ├┤ X ├┤ X ├»\n",
       "     └──────────┘                           └───┘└───────────────┘└───┘└───┘»\n",
       "«                           \n",
       "«q_0: ──────────────────────\n",
       "«                           \n",
       "«q_1: ───────────────────■──\n",
       "«     ┌───────────────┐┌─┴─┐\n",
       "«q_2: ┤ U1(x[1]*x[2]) ├┤ X ├\n",
       "«     └───────────────┘└───┘</pre>"
      ],
      "text/plain": [
       "     ┌──────────┐                                                           »\n",
       "q_0: ┤ RX(x[0]) ├──■─────────────────────■────■─────────────────────■───────»\n",
       "     ├──────────┤┌─┴─┐┌───────────────┐┌─┴─┐  │                     │       »\n",
       "q_1: ┤ RX(x[1]) ├┤ X ├┤ U1(x[0]*x[1]) ├┤ X ├──┼─────────────────────┼────■──»\n",
       "     ├──────────┤└───┘└───────────────┘└───┘┌─┴─┐┌───────────────┐┌─┴─┐┌─┴─┐»\n",
       "q_2: ┤ RX(x[2]) ├───────────────────────────┤ X ├┤ U1(x[0]*x[2]) ├┤ X ├┤ X ├»\n",
       "     └──────────┘                           └───┘└───────────────┘└───┘└───┘»\n",
       "«                           \n",
       "«q_0: ──────────────────────\n",
       "«                           \n",
       "«q_1: ───────────────────■──\n",
       "«     ┌───────────────┐┌─┴─┐\n",
       "«q_2: ┤ U1(x[1]*x[2]) ├┤ X ├\n",
       "«     └───────────────┘└───┘"
      ]
     },
     "execution_count": 18,
     "metadata": {},
     "output_type": "execute_result"
    }
   ],
   "source": [
    "from qiskit.circuit import QuantumCircuit, ParameterVector\n",
    "\n",
    "num_qubits = 3            \n",
    "reps = 1              # number of times you'd want to repeat the circuit\n",
    "\n",
    "x = ParameterVector('x', length=num_qubits)  # creating a list of Parameters\n",
    "custom_circ = QuantumCircuit(num_qubits)\n",
    "\n",
    "# defining our parametric form\n",
    "for _ in range(reps):\n",
    "    for i in range(num_qubits):\n",
    "        custom_circ.rx(x[i], i)\n",
    "    for i in range(num_qubits):\n",
    "        for j in range(i + 1, num_qubits):\n",
    "            custom_circ.cx(i, j)\n",
    "            custom_circ.u1(x[i] * x[j], j)\n",
    "            custom_circ.cx(i, j)\n",
    "            \n",
    "custom_circ.draw()"
   ]
  },
  {
   "cell_type": "markdown",
   "metadata": {},
   "source": [
    "During the challenge phase, creating a custom feature map will become crucial in improving the accuracy of your model as it gives the freedom to create an effective feature map and variational circuit tailor made for your dataset. However, as we discussed earlier, the idea of \"how\" to create an effective feature map and variational circuit for a particular dataset are active fields of research and there is no concrete answer to it yet."
   ]
  },
  {
   "cell_type": "markdown",
   "metadata": {},
   "source": [
    "### 2.3 Measurement and Assigning a Binary Label <a id=\"validate\"></a> "
   ]
  },
  {
   "cell_type": "markdown",
   "metadata": {},
   "source": [
    "After creating and measuring the circuit we are left with an _n_ bit classical string from which we must derive a binary output which will be our classification result. This is done with the help of a boolean function $f: \\{0, 1\\}^{n} -> \\{0, 1\\}$. The way this boolean function is written out may not be as significant as the concepts earlier as modifying the boolean function will change the values of the parameters learned to accommodate for the change. Common examples of boolean functions are:\n",
    "\n",
    "* **Parity function** : modulus 2 sum of all the digits of the _n_ bit classical string. \n",
    "* **Choosing the \"k\"th digit** : Choose the digit number \"k\" in the _n_ bit classical string as the output, etc.\n",
    "\n",
    "This functionality is already inbuilt in the `VQC` method in Qiskit Aqua and you won't have to make any changes to it."
   ]
  },
  {
   "cell_type": "markdown",
   "metadata": {},
   "source": [
    "### 2.4 Classical optimization loop <a id=\"classical-optimization\"></a> "
   ]
  },
  {
   "cell_type": "markdown",
   "metadata": {},
   "source": [
    "Once we get our predictions a classical optimization routine changes the values of our variational circuit and repeats the whole process again. This is the classical loop that trains our parameters until the cost function value decreases. The details of the working have been ommitted as they are immutable and are not relevant going forward. However, you can look at the [code](https://github.com/Qiskit/qiskit-aqua/blob/master/qiskit/aqua/algorithms/classifiers/vqc.py) and the [optimization step](https://github.com/Qiskit/qiskit-aqua/blob/f5efe642f6374da45b96c5a73a9a01121f95081e/qiskit/aqua/algorithms/classifiers/vqc.py#L661) to understand exactly how this step takes place. \n",
    "\n",
    "Though there's isn't an available option to change the cost function during the optimization of VQC, Aqua provides you with a plethora of Optimization methods you could use during the training stage of the process. Here are a few for your reference:\n",
    "\n",
    "**Commonly used optimization methods in Aqua:**\n",
    "\n",
    "* COBYLA - Constrained Optimization By Linear Approximation optimizer.\n",
    "* SPSA - Simultaneous Perturbation Stochastic Approximation (SPSA) optimizer.\n",
    "* SLSQP - Sequential Least SQuares Programming optimizer, etc.\n",
    "\n",
    "The complete list can be found in the [documentation](https://qiskit.org/documentation/apidoc/qiskit.aqua.components.optimizers.html). "
   ]
  },
  {
   "cell_type": "markdown",
   "metadata": {},
   "source": [
    "## 3 Classifying Digits 0 and 1 <a id=\"full\"></a>"
   ]
  },
  {
   "cell_type": "markdown",
   "metadata": {},
   "source": [
    "Lets apply what we've learned using the **VQC method in Aqua** to solve our classifcation task of classifying digits `0` and `1`. Using 10,000 points for training using a simulator will take ages, hence we will take a very small subset of **20 training datapoints** and **10 testing datapoints**. We also keep 5 points per label as a validation set to see exactly how our model is classifying the given inputs. "
   ]
  },
  {
   "cell_type": "code",
   "execution_count": 19,
   "metadata": {},
   "outputs": [],
   "source": [
    "train_size = 20\n",
    "test_size = 10\n",
    "dp_size_zero = 5\n",
    "dp_size_one = 5\n",
    "\n",
    "zero_train = zero_datapoints_normalized[:train_size]\n",
    "one_train = one_datapoints_normalized[:train_size]\n",
    "\n",
    "zero_test = zero_datapoints_normalized[train_size + 1:train_size + test_size + 1]\n",
    "one_test = one_datapoints_normalized[train_size + 1:train_size + test_size + 1]\n",
    "\n",
    "training_input = {'A':zero_train, 'B':one_train}\n",
    "test_input = {'A':zero_test, 'B':one_test}\n",
    "\n",
    "# datapoints is our validation set\n",
    "datapoints = []\n",
    "dp_zero = zero_datapoints_normalized[train_size + test_size + 2:train_size + test_size + 2 + dp_size_zero]\n",
    "dp_one = one_datapoints_normalized[train_size + test_size + 2:train_size + test_size + 2 + dp_size_one]\n",
    "datapoints.append(np.concatenate((dp_zero, dp_one)))\n",
    "dp_y = np.array([0, 0, 0, 0, 0, 1, 1, 1, 1, 1])\n",
    "datapoints.append(dp_y)\n",
    "\n",
    "class_to_label = {'A': 0, 'B': 1}"
   ]
  },
  {
   "cell_type": "markdown",
   "metadata": {},
   "source": [
    "**Instantiate the Feature map to use:**"
   ]
  },
  {
   "cell_type": "code",
   "execution_count": 20,
   "metadata": {
    "scrolled": true
   },
   "outputs": [
    {
     "data": {
      "text/html": [
       "<pre style=\"word-wrap: normal;white-space: pre;background: #fff0;line-height: 1.1;font-family: &quot;Courier New&quot;,Courier,monospace\">     ┌───┐┌──────────────┐     »\n",
       "q_0: ┤ H ├┤ U1(2.0*x[0]) ├──■──»\n",
       "     ├───┤├──────────────┤┌─┴─┐»\n",
       "q_1: ┤ H ├┤ U1(2.0*x[1]) ├┤ X ├»\n",
       "     └───┘└──────────────┘└───┘»\n",
       "«                                                                         ┌───┐»\n",
       "«q_0: ─────────────────────────────────────────────────────────────────■──┤ H ├»\n",
       "«     ┌─────────────────────────────────────────────────────────────┐┌─┴─┐├───┤»\n",
       "«q_1: ┤ U1(2.0*(3.14159265358979 - x[0])*(3.14159265358979 - x[1])) ├┤ X ├┤ H ├»\n",
       "«     └─────────────────────────────────────────────────────────────┘└───┘└───┘»\n",
       "«     ┌──────────────┐     »\n",
       "«q_0: ┤ U1(2.0*x[0]) ├──■──»\n",
       "«     ├──────────────┤┌─┴─┐»\n",
       "«q_1: ┤ U1(2.0*x[1]) ├┤ X ├»\n",
       "«     └──────────────┘└───┘»\n",
       "«                                                                         \n",
       "«q_0: ─────────────────────────────────────────────────────────────────■──\n",
       "«     ┌─────────────────────────────────────────────────────────────┐┌─┴─┐\n",
       "«q_1: ┤ U1(2.0*(3.14159265358979 - x[0])*(3.14159265358979 - x[1])) ├┤ X ├\n",
       "«     └─────────────────────────────────────────────────────────────┘└───┘</pre>"
      ],
      "text/plain": [
       "     ┌───┐┌──────────────┐     »\n",
       "q_0: ┤ H ├┤ U1(2.0*x[0]) ├──■──»\n",
       "     ├───┤├──────────────┤┌─┴─┐»\n",
       "q_1: ┤ H ├┤ U1(2.0*x[1]) ├┤ X ├»\n",
       "     └───┘└──────────────┘└───┘»\n",
       "«                                                                         ┌───┐»\n",
       "«q_0: ─────────────────────────────────────────────────────────────────■──┤ H ├»\n",
       "«     ┌─────────────────────────────────────────────────────────────┐┌─┴─┐├───┤»\n",
       "«q_1: ┤ U1(2.0*(3.14159265358979 - x[0])*(3.14159265358979 - x[1])) ├┤ X ├┤ H ├»\n",
       "«     └─────────────────────────────────────────────────────────────┘└───┘└───┘»\n",
       "«     ┌──────────────┐     »\n",
       "«q_0: ┤ U1(2.0*x[0]) ├──■──»\n",
       "«     ├──────────────┤┌─┴─┐»\n",
       "«q_1: ┤ U1(2.0*x[1]) ├┤ X ├»\n",
       "«     └──────────────┘└───┘»\n",
       "«                                                                         \n",
       "«q_0: ─────────────────────────────────────────────────────────────────■──\n",
       "«     ┌─────────────────────────────────────────────────────────────┐┌─┴─┐\n",
       "«q_1: ┤ U1(2.0*(3.14159265358979 - x[0])*(3.14159265358979 - x[1])) ├┤ X ├\n",
       "«     └─────────────────────────────────────────────────────────────┘└───┘"
      ]
     },
     "execution_count": 20,
     "metadata": {},
     "output_type": "execute_result"
    }
   ],
   "source": [
    "seed = 10598\n",
    "feature_dim = zero_train.shape[1]\n",
    "\n",
    "feature_map = ZZFeatureMap(feature_dimension=feature_dim, reps=2, entanglement='linear')\n",
    "feature_map.draw()"
   ]
  },
  {
   "cell_type": "markdown",
   "metadata": {},
   "source": [
    "**Instantiate the Classical Optimizer to use:**"
   ]
  },
  {
   "cell_type": "code",
   "execution_count": 21,
   "metadata": {},
   "outputs": [],
   "source": [
    "from qiskit.aqua.components.optimizers import COBYLA\n",
    "\n",
    "cobyla = COBYLA(maxiter=500, tol=0.001)"
   ]
  },
  {
   "cell_type": "markdown",
   "metadata": {},
   "source": [
    "**Instantiate the variational Circuit to use:**"
   ]
  },
  {
   "cell_type": "code",
   "execution_count": 22,
   "metadata": {},
   "outputs": [
    {
     "data": {
      "text/html": [
       "<pre style=\"word-wrap: normal;white-space: pre;background: #fff0;line-height: 1.1;font-family: &quot;Courier New&quot;,Courier,monospace\">     ┌──────────┐┌──────────┐     ┌──────────┐┌──────────┐     ┌──────────┐»\n",
       "q_0: ┤ RY(θ[0]) ├┤ RZ(θ[2]) ├──■──┤ RY(θ[4]) ├┤ RZ(θ[6]) ├──■──┤ RY(θ[8]) ├»\n",
       "     ├──────────┤├──────────┤┌─┴─┐├──────────┤├──────────┤┌─┴─┐├──────────┤»\n",
       "q_1: ┤ RY(θ[1]) ├┤ RZ(θ[3]) ├┤ X ├┤ RY(θ[5]) ├┤ RZ(θ[7]) ├┤ X ├┤ RY(θ[9]) ├»\n",
       "     └──────────┘└──────────┘└───┘└──────────┘└──────────┘└───┘└──────────┘»\n",
       "«     ┌───────────┐\n",
       "«q_0: ┤ RZ(θ[10]) ├\n",
       "«     ├───────────┤\n",
       "«q_1: ┤ RZ(θ[11]) ├\n",
       "«     └───────────┘</pre>"
      ],
      "text/plain": [
       "     ┌──────────┐┌──────────┐     ┌──────────┐┌──────────┐     ┌──────────┐»\n",
       "q_0: ┤ RY(θ[0]) ├┤ RZ(θ[2]) ├──■──┤ RY(θ[4]) ├┤ RZ(θ[6]) ├──■──┤ RY(θ[8]) ├»\n",
       "     ├──────────┤├──────────┤┌─┴─┐├──────────┤├──────────┤┌─┴─┐├──────────┤»\n",
       "q_1: ┤ RY(θ[1]) ├┤ RZ(θ[3]) ├┤ X ├┤ RY(θ[5]) ├┤ RZ(θ[7]) ├┤ X ├┤ RY(θ[9]) ├»\n",
       "     └──────────┘└──────────┘└───┘└──────────┘└──────────┘└───┘└──────────┘»\n",
       "«     ┌───────────┐\n",
       "«q_0: ┤ RZ(θ[10]) ├\n",
       "«     ├───────────┤\n",
       "«q_1: ┤ RZ(θ[11]) ├\n",
       "«     └───────────┘"
      ]
     },
     "execution_count": 22,
     "metadata": {},
     "output_type": "execute_result"
    }
   ],
   "source": [
    "from qiskit.circuit.library import EfficientSU2, RealAmplitudes\n",
    "\n",
    "var = EfficientSU2(feature_dim, reps=2)\n",
    "var.draw()"
   ]
  },
  {
   "cell_type": "markdown",
   "metadata": {},
   "source": [
    "Constructing a callback function to get the parameter values after each iteration. This step is optional but highly recommended to see if the algorithm is working and is optimizing your parameters as you'd expect it to. "
   ]
  },
  {
   "cell_type": "code",
   "execution_count": 23,
   "metadata": {},
   "outputs": [],
   "source": [
    "def call_back_vqc(eval_count, var_params, eval_val, index):\n",
    "    print(\"eval_count: {}\".format(eval_count))\n",
    "    print(\"var_params: {}\".format(var_params))\n",
    "    print(\"eval_val: {}\".format(eval_val))\n",
    "    print(\"index: {}\".format(index))"
   ]
  },
  {
   "cell_type": "markdown",
   "metadata": {},
   "source": [
    "**Bringing everything together**"
   ]
  },
  {
   "cell_type": "code",
   "execution_count": 24,
   "metadata": {},
   "outputs": [],
   "source": [
    "# initilizing our backend\n",
    "backend = BasicAer.get_backend('qasm_simulator')\n",
    "backend_options = {\"method\": \"statevector\"}\n",
    "\n",
    "# creating a quantum instance\n",
    "quantum_instance = QuantumInstance(backend, shots=1024, seed_simulator=seed, seed_transpiler=seed, backend_options=backend_options)\n",
    "\n",
    "#initilizing our VQC object\n",
    "vqc = VQC(optimizer=cobyla, feature_map=feature_map, var_form=var, callback=call_back_vqc, training_dataset=training_input, \n",
    "         test_dataset=test_input, datapoints=datapoints[0])"
   ]
  },
  {
   "cell_type": "code",
   "execution_count": 25,
   "metadata": {},
   "outputs": [
    {
     "name": "stdout",
     "output_type": "stream",
     "text": [
      "eval_count: 0\n",
      "var_params: [ 3.30045889e-01 -4.79979434e-04  8.18115898e-01  4.28213708e-01\n",
      " -2.50394732e+00  1.20481133e-01  8.07892857e-01  6.02120978e-01\n",
      " -8.65190000e-01 -1.53320351e-01 -2.40490559e-01 -6.07633463e-02]\n",
      "eval_val: 0.3919484487116568\n",
      "index: 0\n",
      "eval_count: 1\n",
      "var_params: [ 1.33004589e+00 -4.79979434e-04  8.18115898e-01  4.28213708e-01\n",
      " -2.50394732e+00  1.20481133e-01  8.07892857e-01  6.02120978e-01\n",
      " -8.65190000e-01 -1.53320351e-01 -2.40490559e-01 -6.07633463e-02]\n",
      "eval_val: 0.4931522521010484\n",
      "index: 1\n",
      "eval_count: 2\n",
      "var_params: [ 0.33004589  0.99952002  0.8181159   0.42821371 -2.50394732  0.12048113\n",
      "  0.80789286  0.60212098 -0.86519    -0.15332035 -0.24049056 -0.06076335]\n",
      "eval_val: 0.3919484487116568\n",
      "index: 2\n",
      "eval_count: 3\n",
      "var_params: [ 3.30045889e-01 -4.79979434e-04  1.81811590e+00  4.28213708e-01\n",
      " -2.50394732e+00  1.20481133e-01  8.07892857e-01  6.02120978e-01\n",
      " -8.65190000e-01 -1.53320351e-01 -2.40490559e-01 -6.07633463e-02]\n",
      "eval_val: 0.3919484487116568\n",
      "index: 3\n",
      "eval_count: 4\n",
      "var_params: [ 3.30045889e-01 -4.79979434e-04  8.18115898e-01  1.42821371e+00\n",
      " -2.50394732e+00  1.20481133e-01  8.07892857e-01  6.02120978e-01\n",
      " -8.65190000e-01 -1.53320351e-01 -2.40490559e-01 -6.07633463e-02]\n",
      "eval_val: 0.6274117084966513\n",
      "index: 4\n",
      "eval_count: 5\n",
      "var_params: [ 3.30045889e-01 -4.79979434e-04  8.18115898e-01  4.28213708e-01\n",
      " -1.50394732e+00  1.20481133e-01  8.07892857e-01  6.02120978e-01\n",
      " -8.65190000e-01 -1.53320351e-01 -2.40490559e-01 -6.07633463e-02]\n",
      "eval_val: 0.39319576507611054\n",
      "index: 5\n",
      "eval_count: 6\n",
      "var_params: [ 3.30045889e-01 -4.79979434e-04  8.18115898e-01  4.28213708e-01\n",
      " -2.50394732e+00  1.12048113e+00  8.07892857e-01  6.02120978e-01\n",
      " -8.65190000e-01 -1.53320351e-01 -2.40490559e-01 -6.07633463e-02]\n",
      "eval_val: 0.4842915057425487\n",
      "index: 6\n",
      "eval_count: 7\n",
      "var_params: [ 3.30045889e-01 -4.79979434e-04  8.18115898e-01  4.28213708e-01\n",
      " -2.50394732e+00  1.20481133e-01  1.80789286e+00  6.02120978e-01\n",
      " -8.65190000e-01 -1.53320351e-01 -2.40490559e-01 -6.07633463e-02]\n",
      "eval_val: 0.36932973873984776\n",
      "index: 7\n",
      "eval_count: 8\n",
      "var_params: [ 3.30045889e-01 -4.79979434e-04  8.18115898e-01  4.28213708e-01\n",
      " -2.50394732e+00  1.20481133e-01  1.80789286e+00  1.60212098e+00\n",
      " -8.65190000e-01 -1.53320351e-01 -2.40490559e-01 -6.07633463e-02]\n",
      "eval_val: 0.3208359062920164\n",
      "index: 8\n",
      "eval_count: 9\n",
      "var_params: [ 3.30045889e-01 -4.79979434e-04  8.18115898e-01  4.28213708e-01\n",
      " -2.50394732e+00  1.20481133e-01  1.80789286e+00  1.60212098e+00\n",
      "  1.34810000e-01 -1.53320351e-01 -2.40490559e-01 -6.07633463e-02]\n",
      "eval_val: 0.3591321473850512\n",
      "index: 9\n",
      "eval_count: 10\n",
      "var_params: [ 3.30045889e-01 -4.79979434e-04  8.18115898e-01  4.28213708e-01\n",
      " -2.50394732e+00  1.20481133e-01  1.80789286e+00  1.60212098e+00\n",
      " -8.65190000e-01  8.46679649e-01 -2.40490559e-01 -6.07633463e-02]\n",
      "eval_val: 0.36263979176272404\n",
      "index: 10\n",
      "eval_count: 11\n",
      "var_params: [ 3.30045889e-01 -4.79979434e-04  8.18115898e-01  4.28213708e-01\n",
      " -2.50394732e+00  1.20481133e-01  1.80789286e+00  1.60212098e+00\n",
      " -8.65190000e-01 -1.53320351e-01  7.59509441e-01 -6.07633463e-02]\n",
      "eval_val: 0.44697959972513895\n",
      "index: 11\n",
      "eval_count: 12\n",
      "var_params: [ 3.30045889e-01 -4.79979434e-04  8.18115898e-01  4.28213708e-01\n",
      " -2.50394732e+00  1.20481133e-01  1.80789286e+00  1.60212098e+00\n",
      " -8.65190000e-01 -1.53320351e-01 -2.40490559e-01  9.39236654e-01]\n",
      "eval_val: 0.5929349226854929\n",
      "index: 12\n",
      "eval_count: 13\n",
      "var_params: [ 8.47647603e-02 -4.79979434e-04  8.18115898e-01 -1.42463404e-01\n",
      " -2.50697036e+00 -1.03324777e-01  1.86271237e+00  1.71965235e+00\n",
      " -9.58006129e-01 -2.54637731e-01 -5.46216891e-01 -7.20232178e-01]\n",
      "eval_val: 0.4660533709692027\n",
      "index: 13\n",
      "eval_count: 14\n",
      "var_params: [ 2.68011352e-01 -4.79979434e-04  8.18115898e-01  8.83040036e-01\n",
      " -2.50471188e+00  6.38779357e-02  1.82175737e+00  1.63184607e+00\n",
      " -8.88664312e-01 -1.78944731e-01 -3.17812412e-01 -2.27550917e-01]\n",
      "eval_val: 0.3207638656505343\n",
      "index: 14\n",
      "eval_count: 15\n",
      "var_params: [ 4.36518560e-01 -4.79979434e-04  8.18115898e-01  8.83040036e-01\n",
      " -2.50471188e+00 -1.20798324e-01  1.82175737e+00  1.63184607e+00\n",
      " -8.88664312e-01 -1.78944731e-01 -3.17812412e-01 -2.27550917e-01]\n",
      "eval_val: 0.3460584332071145\n",
      "index: 15\n",
      "eval_count: 16\n",
      "var_params: [ 5.88231686e-01 -4.79979434e-04  8.18115898e-01  9.11351535e-01\n",
      " -2.50528685e+00  4.19198387e-01  1.83218372e+00  1.65419985e+00\n",
      " -9.06317398e-01 -1.98214705e-01 -3.75959777e-01 -3.52978042e-01]\n",
      "eval_val: 0.29236800554977715\n",
      "index: 16\n",
      "eval_count: 17\n",
      "var_params: [ 5.88231686e-01 -4.79979434e-04  8.18115898e-01  9.11351535e-01\n",
      " -2.75528422e+00  4.19198387e-01  1.83218372e+00  1.65419985e+00\n",
      " -9.06317398e-01 -1.98214705e-01 -3.75959777e-01 -3.51832041e-01]\n",
      "eval_val: 0.3112029083774817\n",
      "index: 17\n",
      "eval_count: 18\n",
      "var_params: [ 5.72608725e-01 -4.79979434e-04  8.18115898e-01  1.01304538e+00\n",
      " -2.37896684e+00  6.31727305e-01  1.86963478e+00  1.73449380e+00\n",
      " -9.69726621e-01 -2.67431731e-01 -5.84822930e-01 -9.46129071e-03]\n",
      "eval_val: 0.44998978899838543\n",
      "index: 18\n",
      "eval_count: 19\n",
      "var_params: [ 0.58823169  0.24952002  0.8181159   0.91135153 -2.50528685  0.41919839\n",
      "  1.83218372  1.65419985 -0.9063174  -0.19821471 -0.37595978 -0.35297804]\n",
      "eval_val: 0.29236800554977715\n",
      "index: 19\n",
      "eval_count: 20\n",
      "var_params: [ 4.75950640e-01 -4.79979434e-04  8.18115898e-01  7.16975771e-01\n",
      " -2.44682284e+00  4.26589380e-01  1.85032291e+00  1.69308973e+00\n",
      " -9.37029262e-01 -2.31739543e-01 -4.77121350e-01 -7.79588065e-01]\n",
      "eval_val: 0.2765487104579963\n",
      "index: 20\n",
      "eval_count: 21\n",
      "var_params: [ 4.75950640e-01 -4.79979434e-04  1.06811590e+00  7.16975771e-01\n",
      " -2.44682284e+00  4.26589380e-01  1.85032291e+00  1.69308973e+00\n",
      " -9.37029262e-01 -2.31739543e-01 -4.77121350e-01 -7.79588065e-01]\n",
      "eval_val: 0.2765487104579963\n",
      "index: 21\n",
      "eval_count: 22\n",
      "var_params: [ 4.66168460e-01 -4.79979434e-04  8.18115898e-01  7.51441101e-01\n",
      " -2.39572029e+00  5.11675717e-01  1.86584803e+00  1.72637513e+00\n",
      " -9.63315201e-01 -2.60433074e-01 -9.89695722e-03 -9.12642358e-01]\n",
      "eval_val: 0.27270975700901035\n",
      "index: 22\n",
      "eval_count: 23\n",
      "var_params: [ 4.66168460e-01 -4.79979434e-04  8.18115898e-01  7.51441101e-01\n",
      " -2.39572029e+00  5.11675717e-01  2.08572621e+00  1.72637513e+00\n",
      " -9.63315201e-01 -1.41464214e-01 -9.89695722e-03 -9.12642358e-01]\n",
      "eval_val: 0.2932506777877434\n",
      "index: 23\n",
      "eval_count: 24\n",
      "var_params: [ 4.61979260e-01 -4.79979434e-04  8.18115898e-01  7.66200815e-01\n",
      " -2.37383572e+00  5.48113783e-01  1.60967612e+00  1.74062955e+00\n",
      " -9.74572106e-01  1.62272132e-01 -1.09135314e-03 -9.69622612e-01]\n",
      "eval_val: 0.28078148090902977\n",
      "index: 24\n",
      "eval_count: 25\n",
      "var_params: [ 4.66168460e-01 -4.79979434e-04  8.18115898e-01  7.51441101e-01\n",
      " -2.39572029e+00  5.11675717e-01  1.86584803e+00  1.57143506e+00\n",
      " -1.15951299e+00 -2.60433074e-01 -9.89695722e-03 -9.12642358e-01]\n",
      "eval_val: 0.29477100342125445\n",
      "index: 25\n",
      "eval_count: 26\n",
      "var_params: [ 4.60556421e-01 -4.79979434e-04  8.18115898e-01  7.71213870e-01\n",
      " -2.36640275e+00  5.60489771e-01  1.83959567e+00  1.36497367e+00\n",
      " -6.33633501e-01 -2.79902523e-01  1.89942176e-03 -9.88975642e-01]\n",
      "eval_val: 0.3522561893640175\n",
      "index: 26\n",
      "eval_count: 27\n",
      "var_params: [ 4.35135281e-01 -4.79979434e-04  8.18115898e-01  9.78870153e-01\n",
      " -2.39610223e+00  4.83359601e-01  1.87278616e+00  1.74125026e+00\n",
      " -9.75062291e-01 -2.73256107e-01 -4.85906058e-02 -9.95960964e-01]\n",
      "eval_val: 0.3094034489975879\n",
      "index: 27\n",
      "eval_count: 28\n",
      "var_params: [ 4.31383070e-01 -4.79979434e-04  8.18115898e-01  5.16651929e-01\n",
      " -2.27019508e+00  7.07167540e-01  1.76690446e+00  2.04449427e+00\n",
      " -1.02799111e+00 -3.64009280e-01 -2.52244674e-02 -7.96217126e-01]\n",
      "eval_val: 0.26695854939024033\n",
      "index: 28\n",
      "eval_count: 29\n",
      "var_params: [ 6.11954309e-01 -4.79979434e-04  8.18115898e-01  4.56096499e-01\n",
      " -2.24430268e+00  5.65501087e-01  1.74198920e+00  2.10152160e+00\n",
      " -1.03417087e+00 -3.77623658e-01 -4.39975191e-03 -8.27155305e-01]\n",
      "eval_val: 0.29939390693451146\n",
      "index: 29\n",
      "eval_count: 30\n",
      "var_params: [ 3.67456089e-01 -4.79979434e-04  8.18115898e-01  5.10999981e-01\n",
      " -2.19483794e+00  6.36233370e-01  1.76482300e+00  2.04003169e+00\n",
      " -1.02446695e+00 -3.60162331e-01 -1.36162556e-02 -7.71522477e-01]\n",
      "eval_val: 0.268065754406072\n",
      "index: 30\n",
      "eval_count: 31\n",
      "var_params: [ 3.08755696e-01 -4.79979434e-04  8.18115898e-01  4.51704449e-01\n",
      " -2.45560241e+00  6.41124941e-01  1.74061718e+00  2.08821108e+00\n",
      " -1.02730726e+00 -3.69486539e-01  1.43421318e-02 -7.78647780e-01]\n",
      "eval_val: 0.31765953043729134\n",
      "index: 31\n"
     ]
    },
    {
     "name": "stdout",
     "output_type": "stream",
     "text": [
      "eval_count: 32\n",
      "var_params: [ 0.43138307  0.12452002  0.8181159   0.51665193 -2.27019508  0.70716754\n",
      "  1.76690446  2.04449427 -1.02799111 -0.36400928 -0.02522447 -0.79621713]\n",
      "eval_val: 0.26695854939024033\n",
      "index: 32\n",
      "eval_count: 33\n",
      "var_params: [ 4.36959763e-01 -4.79979434e-04  8.18115898e-01  4.64182378e-01\n",
      " -2.18309260e+00  8.19433221e-01  1.73736812e+00  1.92361937e+00\n",
      " -8.76340196e-01 -3.95706848e-01 -3.13409639e-02 -7.97678989e-01]\n",
      "eval_val: 0.2586614449874197\n",
      "index: 33\n",
      "eval_count: 34\n",
      "var_params: [ 4.06337766e-01 -4.79979434e-04  8.18115898e-01  4.40214353e-01\n",
      " -2.16947134e+00  8.17184565e-01  1.74343376e+00  1.93428656e+00\n",
      " -8.84764217e-01 -4.06917357e-01 -6.51688019e-02 -9.09171988e-01]\n",
      "eval_val: 0.2640936310069677\n",
      "index: 34\n",
      "eval_count: 35\n",
      "var_params: [ 4.30530315e-01 -4.79979434e-04  8.18115898e-01  6.68212351e-01\n",
      " -2.10238224e+00  8.98835737e-01  1.70681908e+00  1.97777685e+00\n",
      " -8.51745315e-01 -4.42683424e-01 -6.57664451e-02 -7.85496492e-01]\n",
      "eval_val: 0.24333415904859165\n",
      "index: 35\n",
      "eval_count: 36\n",
      "var_params: [ 4.36670305e-01 -4.79979434e-04  8.18115898e-01  6.84594884e-01\n",
      " -2.03311977e+00  9.80353355e-01  1.67931494e+00  1.85354672e+00\n",
      " -1.03133321e+00 -4.75684965e-01 -7.83618319e-02 -7.52902935e-01]\n",
      "eval_val: 0.24037303545412914\n",
      "index: 36\n",
      "eval_count: 37\n",
      "var_params: [ 4.36670305e-01 -4.79979434e-04  9.43115898e-01  6.84594884e-01\n",
      " -2.03311977e+00  9.80353355e-01  1.67931494e+00  1.85354672e+00\n",
      " -1.03133321e+00 -4.75684965e-01 -7.83618319e-02 -7.52902935e-01]\n",
      "eval_val: 0.24037303545412914\n",
      "index: 37\n",
      "eval_count: 38\n",
      "var_params: [ 4.42988819e-01 -4.79979434e-04  8.18115898e-01  7.02099838e-01\n",
      " -1.96012117e+00  1.06653424e+00  1.87328574e+00  1.87575250e+00\n",
      " -1.02724835e+00 -3.75553218e-01 -9.13689118e-02 -7.20227122e-01]\n",
      "eval_val: 0.23741752821091114\n",
      "index: 38\n",
      "eval_count: 39\n",
      "var_params: [ 4.38695473e-01 -4.79979434e-04  8.18115898e-01  6.99261570e-01\n",
      " -1.97482243e+00  1.05271915e+00  1.93750487e+00  1.86945245e+00\n",
      " -1.02353946e+00 -4.79654341e-01 -9.12073890e-02 -7.06926203e-01]\n",
      "eval_val: 0.23641833415373253\n",
      "index: 39\n",
      "eval_count: 40\n",
      "var_params: [ 2.86370531e-01 -4.79979434e-04  8.18115898e-01  7.84119511e-01\n",
      " -2.03205433e+00  1.18567818e+00  1.92016745e+00  1.85314545e+00\n",
      " -9.78631400e-01 -4.98474798e-01 -7.59091658e-02 -6.17644823e-01]\n",
      "eval_val: 0.2692790541689754\n",
      "index: 40\n",
      "eval_count: 41\n",
      "var_params: [ 4.41605712e-01 -4.79979434e-04  8.18115898e-01  7.07689567e-01\n",
      " -1.96216242e+00  1.06864558e+00  1.94132344e+00  1.87728194e+00\n",
      " -1.02984825e+00 -4.86518746e-01  2.60724421e-02 -7.41771719e-01]\n",
      "eval_val: 0.21711133130857507\n",
      "index: 41\n",
      "eval_count: 42\n",
      "var_params: [ 6.12011875e-01 -4.79979434e-04  8.18115898e-01  7.44034693e-01\n",
      " -1.84450747e+00  1.05932698e+00  1.93653862e+00  1.90263325e+00\n",
      " -1.01787093e+00 -5.26120011e-01  1.48975877e-01 -7.68766052e-01]\n",
      "eval_val: 0.20587756916850664\n",
      "index: 42\n",
      "eval_count: 43\n",
      "var_params: [ 5.62641657e-01 -4.79979434e-04  8.18115898e-01  7.38589616e-01\n",
      " -1.77984461e+00  1.09293894e+00  1.95816817e+00  1.92816675e+00\n",
      " -1.04197506e+00 -5.59731104e-01  1.35559837e-01 -9.96167419e-01]\n",
      "eval_val: 0.21026385260245267\n",
      "index: 43\n",
      "eval_count: 44\n",
      "var_params: [ 6.06010142e-01 -4.79979434e-04  8.18115898e-01  6.49997754e-01\n",
      " -1.81680359e+00  1.10704057e+00  1.91473380e+00  1.94957452e+00\n",
      " -1.01533324e+00 -5.46638344e-01  1.50166514e-01 -7.44390862e-01]\n",
      "eval_val: 0.22543625663274475\n",
      "index: 44\n",
      "eval_count: 45\n",
      "var_params: [ 6.37500809e-01 -4.79979434e-04  8.18115898e-01  6.63595913e-01\n",
      " -1.85600463e+00  1.04729770e+00  1.97067720e+00  1.70462166e+00\n",
      " -9.24087015e-01 -4.92924079e-01  2.05125438e-01 -8.09739592e-01]\n",
      "eval_val: 0.19972040876031366\n",
      "index: 45\n",
      "eval_count: 46\n",
      "var_params: [ 0.63750081  0.12452002  0.8181159   0.66359591 -1.85600463  1.0472977\n",
      "  1.9706772   1.70462166 -0.92408701 -0.49292408  0.20512544 -0.80973959]\n",
      "eval_val: 0.19972040876031366\n",
      "index: 46\n",
      "eval_count: 47\n",
      "var_params: [ 5.13006360e-01 -4.79979434e-04  8.18115898e-01  6.68029821e-01\n",
      " -1.69971249e+00  9.10006419e-01  1.96999971e+00  1.68865895e+00\n",
      " -9.15366584e-01 -4.85645977e-01  2.38781295e-01 -7.62959837e-01]\n",
      "eval_val: 0.19622973970941704\n",
      "index: 47\n",
      "eval_count: 48\n",
      "var_params: [ 5.16148850e-01 -4.79979434e-04  8.18115898e-01  6.66714686e-01\n",
      " -1.67545115e+00  9.38928561e-01  1.95995233e+00  1.63037174e+00\n",
      " -1.01682112e+00 -4.97286745e-01  2.35001487e-01 -7.47239621e-01]\n",
      "eval_val: 0.1952076569103032\n",
      "index: 48\n",
      "eval_count: 49\n",
      "var_params: [ 5.41169366e-01 -4.79979434e-04  8.18115898e-01  6.80462826e-01\n",
      " -1.76593013e+00  8.10423947e-01  2.04169175e+00  1.64121286e+00\n",
      " -1.11318027e+00 -4.33439785e-01  3.59991906e-01 -7.81910813e-01]\n",
      "eval_val: 0.2308250988970995\n",
      "index: 49\n",
      "eval_count: 50\n",
      "var_params: [ 5.16148850e-01 -4.79979434e-04  9.43115898e-01  6.66714686e-01\n",
      " -1.67545115e+00  9.38928561e-01  1.95995233e+00  1.63037174e+00\n",
      " -1.01682112e+00 -4.97286745e-01  2.35001487e-01 -7.47239621e-01]\n",
      "eval_val: 0.1952076569103032\n",
      "index: 50\n",
      "eval_count: 51\n",
      "var_params: [ 4.52789277e-01 -4.79979434e-04  8.18115898e-01  8.35930565e-01\n",
      " -1.65622911e+00  1.04697809e+00  1.92500135e+00  1.56689398e+00\n",
      " -9.45900023e-01 -5.33430865e-01  3.09999997e-01 -7.22839011e-01]\n",
      "eval_val: 0.19397776761329663\n",
      "index: 51\n",
      "eval_count: 52\n",
      "var_params: [ 4.55350449e-01 -4.79979434e-04  8.18115898e-01  8.43723056e-01\n",
      " -1.62215959e+00  1.08740534e+00  2.02620487e+00  1.57679209e+00\n",
      " -9.43067391e-01 -4.91486056e-01  2.94145963e-01 -7.02745355e-01]\n",
      "eval_val: 0.20275681376413052\n",
      "index: 52\n",
      "eval_count: 53\n",
      "var_params: [ 5.10112530e-01 -4.79979434e-04  8.18115898e-01  8.87603939e-01\n",
      " -1.64732187e+00  9.72345656e-01  1.96694876e+00  1.50404747e+00\n",
      " -9.10069854e-01 -7.09916465e-01  1.97710365e-01 -7.10782070e-01]\n",
      "eval_val: 0.19647859899177905\n",
      "index: 53\n",
      "eval_count: 54\n",
      "var_params: [ 5.47290394e-01 -4.79979434e-04  8.18115898e-01  8.54288929e-01\n",
      " -1.59065014e+00  1.04118858e+00  1.90157940e+00  1.58042293e+00\n",
      " -9.38493454e-01 -5.21402640e-01  3.41983779e-01 -7.31161949e-01]\n",
      "eval_val: 0.20310011253203447\n",
      "index: 54\n",
      "eval_count: 55\n",
      "var_params: [ 4.18027443e-01 -4.79979434e-04  8.18115898e-01  8.88169694e-01\n",
      " -1.66811704e+00  1.02372889e+00  1.82198139e+00  1.49875145e+00\n",
      " -9.24500411e-01 -4.07473352e-01  1.48965976e-01 -7.42051794e-01]\n",
      "eval_val: 0.2048921139992495\n",
      "index: 55\n",
      "eval_count: 56\n",
      "var_params: [ 4.76651856e-01 -4.79979434e-04  8.18115898e-01  8.28157332e-01\n",
      " -1.68527205e+00  1.03559365e+00  1.91182415e+00  1.55943755e+00\n",
      " -9.33640237e-01 -5.19016403e-01  3.16798915e-01 -6.07130261e-01]\n",
      "eval_val: 0.19470568261802473\n",
      "index: 56\n",
      "eval_count: 57\n",
      "var_params: [ 3.57903811e-01 -4.79979434e-04  8.18115898e-01  6.82570489e-01\n",
      " -1.62752890e+00  1.13844235e+00  1.84205104e+00  1.56365781e+00\n",
      " -8.99480310e-01 -6.40354703e-01  3.11416756e-01 -7.05309255e-01]\n",
      "eval_val: 0.19718083636877767\n",
      "index: 57\n",
      "eval_count: 58\n",
      "var_params: [ 4.08826449e-01 -4.79979434e-04  8.18115898e-01  8.40492379e-01\n",
      " -1.72638411e+00  9.96376111e-01  1.92792271e+00  1.54567210e+00\n",
      " -9.76709423e-01 -5.56693670e-01  3.72943106e-01 -7.39514170e-01]\n",
      "eval_val: 0.1996537633428061\n",
      "index: 58\n",
      "eval_count: 59\n",
      "var_params: [ 0.45278928  0.06202002  0.8181159   0.83593057 -1.65622911  1.04697809\n",
      "  1.92500135  1.56689398 -0.94590002 -0.53343086  0.31       -0.72283901]\n",
      "eval_val: 0.19397776761329663\n",
      "index: 59\n",
      "eval_count: 60\n",
      "var_params: [ 4.27503754e-01 -4.79979434e-04  8.18115898e-01  8.76313401e-01\n",
      " -1.65631994e+00  1.05246624e+00  1.90130214e+00  1.66096069e+00\n",
      " -9.91779068e-01 -5.60635986e-01  2.84529055e-01 -7.02326391e-01]\n",
      "eval_val: 0.1914425658376963\n",
      "index: 60\n",
      "eval_count: 61\n",
      "var_params: [ 4.44587474e-01 -4.79979434e-04  8.18115898e-01  8.75185818e-01\n",
      " -1.66559708e+00  1.08228956e+00  1.89705267e+00  1.63782863e+00\n",
      " -1.03665449e+00 -5.66578000e-01  2.78646342e-01 -7.01453585e-01]\n",
      "eval_val: 0.19126776013543226\n",
      "index: 61\n",
      "eval_count: 62\n",
      "var_params: [ 4.88428131e-01 -4.79979434e-04  8.18115898e-01  8.75325088e-01\n",
      " -1.75035618e+00  1.12765310e+00  1.89726819e+00  1.67417559e+00\n",
      " -9.89789298e-01 -5.71804889e-01  2.66712122e-01 -7.29270528e-01]\n",
      "eval_val: 0.19295989883494316\n",
      "index: 62\n",
      "eval_count: 63\n",
      "var_params: [ 4.44587474e-01 -4.79979434e-04  8.80615898e-01  8.75185818e-01\n",
      " -1.66559708e+00  1.08228956e+00  1.89705267e+00  1.63782863e+00\n",
      " -1.03665449e+00 -5.66578000e-01  2.78646342e-01 -7.01453585e-01]\n",
      "eval_val: 0.19126776013543226\n",
      "index: 63\n"
     ]
    },
    {
     "name": "stdout",
     "output_type": "stream",
     "text": [
      "eval_count: 64\n",
      "var_params: [ 4.09424614e-01 -4.79979434e-04  8.18115898e-01  8.97306637e-01\n",
      " -1.67806733e+00  1.07200901e+00  1.83369966e+00  1.61261011e+00\n",
      " -1.03408425e+00 -5.16358100e-01  1.98790797e-01 -7.10559386e-01]\n",
      "eval_val: 0.19462324638157372\n",
      "index: 64\n",
      "eval_count: 65\n",
      "var_params: [ 4.28233840e-01 -4.79979434e-04  8.18115898e-01  8.51856909e-01\n",
      " -1.66280405e+00  1.10627332e+00  1.87834283e+00  1.65285547e+00\n",
      " -1.04106550e+00 -5.33241583e-01  3.06969511e-01 -7.03099559e-01]\n",
      "eval_val: 0.19092504073996594\n",
      "index: 65\n",
      "eval_count: 66\n",
      "var_params: [ 3.92049370e-01 -4.79979434e-04  8.18115898e-01  7.89039318e-01\n",
      " -1.63887778e+00  1.14261565e+00  1.84932780e+00  1.65164617e+00\n",
      " -1.01889736e+00 -6.14023224e-01  2.87556991e-01 -6.87635939e-01]\n",
      "eval_val: 0.1948132318128331\n",
      "index: 66\n",
      "eval_count: 67\n",
      "var_params: [ 4.15607800e-01 -4.79979434e-04  8.18115898e-01  8.94682461e-01\n",
      " -1.65580406e+00  1.13302984e+00  1.86883721e+00  1.63747693e+00\n",
      " -1.02312629e+00 -5.41852654e-01  3.26752267e-01 -6.97293112e-01]\n",
      "eval_val: 0.19133316168481482\n",
      "index: 67\n",
      "eval_count: 68\n",
      "var_params: [ 5.10229713e-01 -4.79979434e-04  8.18115898e-01  8.65180476e-01\n",
      " -1.61397942e+00  1.08087567e+00  1.81764600e+00  1.67924460e+00\n",
      " -1.05149958e+00 -5.36746792e-01  3.37607633e-01 -7.19066135e-01]\n",
      "eval_val: 0.1951393825133959\n",
      "index: 68\n",
      "eval_count: 69\n",
      "var_params: [ 4.25631393e-01 -4.79979434e-04  8.18115898e-01  8.59613192e-01\n",
      " -1.64412345e+00  1.12422263e+00  1.92465883e+00  1.67097100e+00\n",
      " -1.05140137e+00 -5.12947592e-01  2.97705528e-01 -6.93595176e-01]\n",
      "eval_val: 0.19449591133991362\n",
      "index: 69\n",
      "eval_count: 70\n",
      "var_params: [ 4.20951799e-01 -4.79979434e-04  8.18115898e-01  8.53920096e-01\n",
      " -1.65785582e+00  1.10748163e+00  1.88168802e+00  1.65402424e+00\n",
      " -1.04506706e+00 -5.37536124e-01  3.07283789e-01 -7.32189453e-01]\n",
      "eval_val: 0.19082311925884934\n",
      "index: 70\n",
      "eval_count: 71\n",
      "var_params: [ 3.99099115e-01 -4.79979434e-04  8.18115898e-01  8.58173002e-01\n",
      " -1.69286628e+00  1.08098151e+00  1.88059844e+00  1.65207065e+00\n",
      " -1.06683473e+00 -5.47404032e-01  3.37327263e-01 -7.30236690e-01]\n",
      "eval_val: 0.18957536136379505\n",
      "index: 71\n",
      "eval_count: 72\n",
      "var_params: [ 0.40262775 -0.05703555  0.8181159   0.8497008  -1.69551765  1.07725217\n",
      "  1.88570976  1.63191126 -1.05963829 -0.54185435  0.34556472 -0.73466165]\n",
      "eval_val: 0.19031830293501223\n",
      "index: 72\n",
      "eval_count: 73\n",
      "var_params: [ 0.40827575  0.01079591  0.8181159   0.84791198 -1.69089518  1.08129514\n",
      "  1.89337148  1.63828864 -1.05920285 -0.54924051  0.352676   -0.7326111 ]\n",
      "eval_val: 0.1901389798787452\n",
      "index: 73\n",
      "eval_count: 74\n",
      "var_params: [ 0.38148966  0.01531767  0.8181159   0.86030166 -1.70987566  1.06544322\n",
      "  1.85686279  1.62086624 -1.06494555 -0.51960934  0.31693488 -0.73930549]\n",
      "eval_val: 0.18930000416366416\n",
      "index: 74\n",
      "eval_count: 75\n",
      "var_params: [ 0.38448368  0.01531767  0.8181159   0.8590068  -1.73359305  1.07788359\n",
      "  1.8622613   1.62699803 -1.05362705 -0.51998815  0.31162961 -0.74435562]\n",
      "eval_val: 0.1892437189883967\n",
      "index: 75\n",
      "eval_count: 76\n",
      "var_params: [ 0.41708866  0.01809847  0.8181159   0.87085321 -1.74698898  1.06175243\n",
      "  1.82390777  1.64474039 -1.05956468 -0.51983506  0.32591221 -0.75953365]\n",
      "eval_val: 0.19058497611907593\n",
      "index: 76\n",
      "eval_count: 77\n",
      "var_params: [ 0.37801485  0.01531767  0.8181159   0.84430424 -1.73294382  1.08101241\n",
      "  1.84667758  1.62308938 -1.04733202 -0.54012532  0.30958763 -0.7434029 ]\n",
      "eval_val: 0.18812440065287991\n",
      "index: 77\n",
      "eval_count: 78\n",
      "var_params: [ 0.3324739   0.02022374  0.8181159   0.82356035 -1.74310048  1.08579778\n",
      "  1.83822075  1.62947393 -1.06027365 -0.56746558  0.29805358 -0.73383497]\n",
      "eval_val: 0.18805862242228175\n",
      "index: 78\n",
      "eval_count: 79\n",
      "var_params: [ 0.34145111  0.01484808  0.8181159   0.82219108 -1.7474934   1.10038702\n",
      "  1.83663663  1.61621443 -1.08133158 -0.56975819  0.29559605 -0.73382688]\n",
      "eval_val: 0.18877168113318113\n",
      "index: 79\n",
      "eval_count: 80\n",
      "var_params: [ 0.32129772 -0.03256741  0.8181159   0.8109613  -1.74688208  1.07177043\n",
      "  1.83515644  1.6165904  -1.0403417  -0.56601593  0.3036495  -0.73814305]\n",
      "eval_val: 0.18757117745129132\n",
      "index: 80\n",
      "eval_count: 81\n",
      "var_params: [ 0.32129772 -0.03256741  0.8493659   0.8109613  -1.74688208  1.07177043\n",
      "  1.83515644  1.6165904  -1.0403417  -0.56601593  0.3036495  -0.73814305]\n",
      "eval_val: 0.18757117745129132\n",
      "index: 81\n",
      "eval_count: 82\n",
      "var_params: [ 0.30200482 -0.03305709  0.8181159   0.85160956 -1.74318958  1.09470499\n",
      "  1.82147288  1.60178664 -1.02107885 -0.57735025  0.32371297 -0.73236152]\n",
      "eval_val: 0.18627748971061614\n",
      "index: 82\n",
      "eval_count: 83\n",
      "var_params: [ 0.29992609 -0.03305709  0.8181159   0.85934559 -1.73965064  1.08961331\n",
      "  1.82913013  1.59895034 -1.02339062 -0.58956194  0.31674377 -0.75694258]\n",
      "eval_val: 0.18606135290015544\n",
      "index: 83\n",
      "eval_count: 84\n",
      "var_params: [ 0.31367766 -0.03356686  0.8181159   0.87800107 -1.75000318  1.06519003\n",
      "  1.83717822  1.58434802 -1.01309389 -0.61771462  0.2932671  -0.726325  ]\n",
      "eval_val: 0.1862025358197965\n",
      "index: 84\n",
      "eval_count: 85\n",
      "var_params: [ 0.30044131 -0.04142419  0.8181159   0.86553413 -1.72937843  1.09826292\n",
      "  1.8200173   1.60983188 -1.02175764 -0.58489168  0.29528448 -0.75583522]\n",
      "eval_val: 0.18705523708966004\n",
      "index: 85\n",
      "eval_count: 86\n",
      "var_params: [ 0.29472158 -0.01366025  0.8181159   0.83984317 -1.72708221  1.09533874\n",
      "  1.83260198  1.57150062 -0.98362857 -0.60469025  0.33337684 -0.76587277]\n",
      "eval_val: 0.18739418669270086\n",
      "index: 86\n",
      "eval_count: 87\n",
      "var_params: [ 0.29460906 -0.02510753  0.8181159   0.86156348 -1.74916174  1.08041656\n",
      "  1.81376442  1.58553959 -1.02310425 -0.57604587  0.30828024 -0.76284047]\n",
      "eval_val: 0.18669405317655308\n",
      "index: 87\n",
      "eval_count: 88\n",
      "var_params: [ 0.31108063 -0.03896073  0.8181159   0.86876132 -1.75399498  1.07372434\n",
      "  1.80073805  1.62518796 -1.02629851 -0.61480569  0.34815634 -0.76549377]\n",
      "eval_val: 0.18849494916951182\n",
      "index: 88\n",
      "eval_count: 89\n",
      "var_params: [ 0.30324121 -0.03305709  0.8181159   0.85879075 -1.7633707   1.10188085\n",
      "  1.83530448  1.60527069 -1.01240255 -0.58892895  0.31154774 -0.76203419]\n",
      "eval_val: 0.18602932354887947\n",
      "index: 89\n",
      "eval_count: 90\n",
      "var_params: [ 0.27361097 -0.03840365  0.8181159   0.88062563 -1.76732226  1.09519031\n",
      "  1.87893465  1.60574536 -1.01837294 -0.57126703  0.32403118 -0.7545957 ]\n",
      "eval_val: 0.18885917171738847\n",
      "index: 90\n",
      "eval_count: 91\n",
      "var_params: [ 0.30879866 -0.04060442  0.8181159   0.85725675 -1.76078095  1.11236544\n",
      "  1.84034535  1.59025919 -1.0330125  -0.59628349  0.31648981 -0.76599521]\n",
      "eval_val: 0.1869879761222762\n",
      "index: 91\n",
      "eval_count: 92\n",
      "var_params: [ 0.31368616 -0.03331892  0.8181159   0.85674814 -1.79477262  1.12320461\n",
      "  1.80882146  1.59570485 -0.9860382  -0.58185093  0.29221693 -0.74104811]\n",
      "eval_val: 0.1882614964434175\n",
      "index: 92\n",
      "eval_count: 93\n",
      "var_params: [ 0.30729008 -0.03514525  0.8181159   0.86368575 -1.7684874   1.09168359\n",
      "  1.82309816  1.62020031 -1.01356384 -0.60086511  0.32761872 -0.76729709]\n",
      "eval_val: 0.18683395769535247\n",
      "index: 93\n",
      "eval_count: 94\n",
      "var_params: [ 0.29189045 -0.03160093  0.8181159   0.85335915 -1.76561252  1.10312407\n",
      "  1.83328618  1.60677439 -1.01545074 -0.59589493  0.30873967 -0.75978236]\n",
      "eval_val: 0.18676208069114147\n",
      "index: 94\n",
      "eval_count: 95\n",
      "var_params: [ 0.30780154 -0.02453211  0.8181159   0.84936117 -1.74860662  1.10269584\n",
      "  1.84113818  1.59810212 -0.99348663 -0.59475699  0.3190913  -0.76847058]\n",
      "eval_val: 0.18691448168241184\n",
      "index: 95\n",
      "eval_count: 96\n",
      "var_params: [ 0.30324121 -0.03305709  0.8337409   0.85879075 -1.7633707   1.10188085\n",
      "  1.83530448  1.60527069 -1.01240255 -0.58892895  0.31154774 -0.76203419]\n",
      "eval_val: 0.18602932354887947\n",
      "index: 96\n",
      "eval_count: 97\n",
      "var_params: [ 0.30964002 -0.00669581  0.8181159   0.8667523  -1.76223368  1.1087404\n",
      "  1.83690354  1.61164522 -1.02094479 -0.58921951  0.30934959 -0.7592252 ]\n",
      "eval_val: 0.1863742161702006\n",
      "index: 97\n",
      "eval_count: 98\n",
      "var_params: [ 0.30764113 -0.03312384  0.8181159   0.86075876 -1.76444924  1.09371065\n",
      "  1.83956758  1.60228019 -1.01200653 -0.59677869  0.30657218 -0.75576203]\n",
      "eval_val: 0.18622410745808154\n",
      "index: 98\n",
      "eval_count: 99\n",
      "var_params: [ 0.31392702 -0.03339889  0.8181159   0.83938559 -1.76713194  1.0930416\n",
      "  1.84074201  1.6151007  -1.01910532 -0.57656246  0.30492741 -0.7670877 ]\n",
      "eval_val: 0.18662120622975167\n",
      "index: 99\n",
      "eval_count: 100\n",
      "var_params: [ 0.30816079 -0.03519907  0.8181159   0.86163081 -1.77022177  1.10720358\n",
      "  1.82925894  1.60239774 -1.00626637 -0.58405265  0.30837969 -0.7580661 ]\n",
      "eval_val: 0.18628689960380765\n",
      "index: 100\n"
     ]
    },
    {
     "name": "stdout",
     "output_type": "stream",
     "text": [
      "eval_count: 101\n",
      "var_params: [ 0.30312727 -0.03317638  0.8181159   0.85711247 -1.76239425  1.10194451\n",
      "  1.835803    1.60561359 -1.01301058 -0.58726453  0.31566229 -0.75596803]\n",
      "eval_val: 0.18595502317627668\n",
      "index: 101\n",
      "eval_count: 102\n",
      "var_params: [ 0.2983492  -0.03520399  0.8181159   0.86544459 -1.76354594  1.09948362\n",
      "  1.84478632  1.60692539 -1.01161108 -0.58017456  0.31798319 -0.75656721]\n",
      "eval_val: 0.1861988673585969\n",
      "index: 102\n",
      "eval_count: 103\n",
      "var_params: [ 0.30449912 -0.03586674  0.8181159   0.85743371 -1.76082161  1.10579166\n",
      "  1.83814405  1.61017832 -1.01207693 -0.58933039  0.31419947 -0.75499763]\n",
      "eval_val: 0.1861420115918037\n",
      "index: 103\n",
      "eval_count: 104\n",
      "var_params: [ 0.30259705 -0.03518417  0.8181159   0.86062661 -1.75138389  1.09835013\n",
      "  1.82890584  1.60567305 -1.01532886 -0.58287819  0.31144176 -0.75414328]\n",
      "eval_val: 0.1862401063368583\n",
      "index: 104\n",
      "eval_count: 105\n",
      "var_params: [ 0.30435178 -0.03551072  0.81661815  0.85836402 -1.76145258  1.10421211\n",
      "  1.83673444  1.6026177  -1.01700396 -0.58801361  0.31622426 -0.76016103]\n",
      "eval_val: 0.18599915076858808\n",
      "index: 105\n",
      "eval_count: 106\n",
      "var_params: [ 0.30746324 -0.03310178  0.8230759   0.85458416 -1.76475846  1.10278911\n",
      "  1.8364413   1.59978658 -1.01760544 -0.58647187  0.32207886 -0.74644109]\n",
      "eval_val: 0.18576731511840083\n",
      "index: 106\n",
      "eval_count: 107\n",
      "var_params: [ 0.31006597 -0.02909096  0.8234386   0.85027705 -1.75862689  1.10343437\n",
      "  1.83914462  1.59354153 -1.00874926 -0.58708135  0.32783017 -0.7489699 ]\n",
      "eval_val: 0.1864266495393711\n",
      "index: 107\n",
      "eval_count: 108\n",
      "var_params: [ 0.3067611  -0.03347514  0.82321291  0.85896286 -1.76488752  1.10266178\n",
      "  1.83348292  1.60050364 -1.01647426 -0.59019831  0.326169   -0.74631101]\n",
      "eval_val: 0.18563557605231457\n",
      "index: 108\n",
      "eval_count: 109\n",
      "var_params: [ 0.31303581 -0.03523517  0.82320322  0.85634578 -1.76964714  1.09566696\n",
      "  1.83018189  1.60753124 -1.02029321 -0.58821448  0.33178949 -0.74989519]\n",
      "eval_val: 0.18609194771401938\n",
      "index: 109\n",
      "eval_count: 110\n",
      "var_params: [ 0.3081777  -0.02652303  0.8225675   0.86072682 -1.76477022  1.10392841\n",
      "  1.83358516  1.60209941 -1.01809815 -0.58974114  0.32589138 -0.74657615]\n",
      "eval_val: 0.18559542650253075\n",
      "index: 110\n",
      "eval_count: 111\n",
      "var_params: [ 0.31141563 -0.03036498  0.8265603   0.86883824 -1.76371935  1.11043283\n",
      "  1.83613423  1.59957949 -1.02604094 -0.59167919  0.32463791 -0.74304296]\n",
      "eval_val: 0.1857480630636005\n",
      "index: 111\n",
      "eval_count: 112\n",
      "var_params: [ 0.30224165 -0.0249592   0.82232175  0.85945116 -1.76721687  1.10482331\n",
      "  1.83173498  1.6015425  -1.02038382 -0.59174653  0.32591606 -0.74519834]\n",
      "eval_val: 0.1859503883965988\n",
      "index: 112\n",
      "eval_count: 113\n",
      "var_params: [ 0.3080541  -0.02690224  0.82277771  0.86072338 -1.76541547  1.10633397\n",
      "  1.83197939  1.60230015 -1.01740222 -0.58747996  0.326571   -0.74699389]\n",
      "eval_val: 0.18561709230127416\n",
      "index: 113\n",
      "eval_count: 114\n",
      "var_params: [ 0.31076836 -0.02623335  0.82072611  0.86295156 -1.7687416   1.10288654\n",
      "  1.83188352  1.59961525 -1.01539113 -0.59021338  0.32257065 -0.74539409]\n",
      "eval_val: 0.18575803546572883\n",
      "index: 114\n",
      "eval_count: 115\n",
      "var_params: [ 0.30792128 -0.026027    0.82589676  0.8609229  -1.76489012  1.10327197\n",
      "  1.83282549  1.60198338 -1.01765101 -0.58987669  0.32480829 -0.74775824]\n",
      "eval_val: 0.18569375048735318\n",
      "index: 115\n",
      "eval_count: 116\n",
      "var_params: [ 0.30786402 -0.02665912  0.82143929  0.86193855 -1.75983194  1.10153033\n",
      "  1.82970112  1.60199295 -1.0189912  -0.5875186   0.32458184 -0.74423298]\n",
      "eval_val: 0.18566889155032593\n",
      "index: 116\n",
      "eval_count: 117\n",
      "var_params: [ 0.3069267  -0.02633102  0.82256053  0.86240546 -1.7654211   1.10249632\n",
      "  1.8348802   1.60091768 -1.0183124  -0.58772954  0.32688279 -0.74704046]\n",
      "eval_val: 0.18569516209718087\n",
      "index: 117\n",
      "eval_count: 118\n",
      "var_params: [ 0.30726235 -0.02711994  0.82287951  0.8623573  -1.76430604  1.10448537\n",
      "  1.83618092  1.60753211 -1.0148011  -0.58949917  0.32501461 -0.74364196]\n",
      "eval_val: 0.18550159151565007\n",
      "index: 118\n",
      "eval_count: 119\n",
      "var_params: [ 0.30643951 -0.0279004   0.82153381  0.8634392  -1.76407106  1.1047298\n",
      "  1.83604658  1.60855938 -1.01531453 -0.58977043  0.32340496 -0.74626394]\n",
      "eval_val: 0.18561633360176044\n",
      "index: 119\n",
      "eval_count: 120\n",
      "var_params: [ 0.30956832 -0.02609394  0.82208524  0.86144507 -1.76024229  1.10655864\n",
      "  1.8382337   1.60642808 -1.01102669 -0.59141775  0.32801892 -0.74370288]\n",
      "eval_val: 0.1854923887354787\n",
      "index: 120\n",
      "eval_count: 121\n",
      "var_params: [ 0.30941641 -0.02530558  0.8212237   0.85972534 -1.76088568  1.10457619\n",
      "  1.83726118  1.60764539 -1.00963754 -0.59099929  0.32896688 -0.74477028]\n",
      "eval_val: 0.18552031940288488\n",
      "index: 121\n",
      "eval_count: 122\n",
      "var_params: [ 0.31456638 -0.02790298  0.82281304  0.86152374 -1.76092102  1.10632279\n",
      "  1.83863698  1.60963267 -1.01418257 -0.59173825  0.33099648 -0.74216355]\n",
      "eval_val: 0.18552978950195373\n",
      "index: 122\n",
      "eval_count: 123\n",
      "var_params: [ 0.31087906 -0.02613729  0.82205997  0.85970142 -1.75977735  1.10647614\n",
      "  1.83987096  1.60620941 -1.01116694 -0.5894071   0.32617486 -0.74399189]\n",
      "eval_val: 0.1855071333573825\n",
      "index: 123\n",
      "eval_count: 124\n",
      "var_params: [ 0.30650186 -0.02458261  0.82129592  0.85751655 -1.76079571  1.10899358\n",
      "  1.83911921  1.60704225 -1.0125091  -0.59321331  0.32826788 -0.73918498]\n",
      "eval_val: 0.18563599460962302\n",
      "index: 124\n",
      "eval_count: 125\n",
      "var_params: [ 0.31130022 -0.02555593  0.82026486  0.86171118 -1.76181161  1.10629811\n",
      "  1.83789903  1.60545481 -1.0104812  -0.5929331   0.32664024 -0.74299521]\n",
      "eval_val: 0.18561143590809676\n",
      "index: 125\n",
      "eval_count: 126\n",
      "var_params: [ 0.30902261 -0.02772724  0.82555176  0.86379514 -1.76027635  1.10720834\n",
      "  1.83729139  1.60683421 -1.00705811 -0.58737346  0.32895172 -0.74123753]\n",
      "eval_val: 0.18538173473796088\n",
      "index: 126\n",
      "eval_count: 127\n",
      "var_params: [ 0.30742037 -0.02662222  0.82422778  0.86647256 -1.76124119  1.10484882\n",
      "  1.84167722  1.60480738 -1.0079718  -0.58489637  0.33232653 -0.74088621]\n",
      "eval_val: 0.18542747533234713\n",
      "index: 127\n",
      "eval_count: 128\n",
      "var_params: [ 0.30848525 -0.030984    0.82498229  0.86288004 -1.75998284  1.10609598\n",
      "  1.83746467  1.60574841 -1.00678314 -0.58798419  0.32917409 -0.74082366]\n",
      "eval_val: 0.1855254902844048\n",
      "index: 128\n",
      "eval_count: 129\n",
      "var_params: [ 0.30924006 -0.02619752  0.82369157  0.86519894 -1.75521194  1.10484865\n",
      "  1.83433186  1.60684178 -1.00865728 -0.58568235  0.32819173 -0.73854553]\n",
      "eval_val: 0.18544646875644108\n",
      "index: 129\n",
      "eval_count: 130\n",
      "var_params: [ 0.30837243 -0.02730796  0.82788925  0.86448844 -1.75885153  1.10651253\n",
      "  1.83765439  1.60585409 -1.00769519 -0.58932621  0.32909118 -0.74217053]\n",
      "eval_val: 0.18545129021399295\n",
      "index: 130\n",
      "eval_count: 131\n",
      "var_params: [ 0.31130218 -0.02453278  0.82894318  0.86242747 -1.76304579  1.10594415\n",
      "  1.83730886  1.60921761 -1.0051479  -0.58416963  0.32770452 -0.73987955]\n",
      "eval_val: 0.18550072576806356\n",
      "index: 131\n",
      "eval_count: 132\n",
      "var_params: [ 0.30938442 -0.02732506  0.82579834  0.86328367 -1.76059318  1.10885554\n",
      "  1.83558444  1.60500894 -1.00787989 -0.58598004  0.33029557 -0.74231547]\n",
      "eval_val: 0.18556866642071718\n",
      "index: 132\n",
      "eval_count: 133\n",
      "var_params: [ 0.30983725 -0.02815733  0.82539356  0.8646723  -1.76023484  1.10669598\n",
      "  1.83712162  1.60691525 -1.00673157 -0.58701791  0.32859987 -0.74246845]\n",
      "eval_val: 0.1853646436294019\n",
      "index: 133\n",
      "eval_count: 134\n",
      "var_params: [ 0.30857038 -0.02820612  0.8247256   0.86591661 -1.75954468  1.10822849\n",
      "  1.8380819   1.60959075 -1.00634273 -0.58695447  0.32809307 -0.74305119]\n",
      "eval_val: 0.18542917307257473\n",
      "index: 134\n",
      "eval_count: 135\n",
      "var_params: [ 0.30880863 -0.02770172  0.82513131  0.86452177 -1.76025255  1.10660887\n",
      "  1.83702267  1.60614517 -1.00584885 -0.58675364  0.32765895 -0.7428039 ]\n",
      "eval_val: 0.18558510189538843\n",
      "index: 135\n",
      "eval_count: 136\n",
      "var_params: [ 0.31191766 -0.02791036  0.82468615  0.86645178 -1.761215    1.10727881\n",
      "  1.83718618  1.60685499 -1.00681055 -0.58889402  0.32881374 -0.74094439]\n",
      "eval_val: 0.18551267409104094\n",
      "index: 136\n",
      "eval_count: 137\n",
      "var_params: [ 0.31045879 -0.02785445  0.82517474  0.864145   -1.75931815  1.10693776\n",
      "  1.83759347  1.60680412 -1.00557151 -0.58715451  0.32930604 -0.74258626]\n",
      "eval_val: 0.18569915711189136\n",
      "index: 137\n",
      "eval_count: 138\n",
      "var_params: [ 0.30889543 -0.02751422  0.82464094  0.86440262 -1.7614055   1.10501054\n",
      "  1.83547348  1.60834417 -1.00690948 -0.58813074  0.33014733 -0.74329609]\n",
      "eval_val: 0.18547819095962179\n",
      "index: 138\n"
     ]
    },
    {
     "name": "stdout",
     "output_type": "stream",
     "text": [
      "eval_count: 139\n",
      "var_params: [ 0.31005397 -0.02754208  0.82459504  0.86365205 -1.76031521  1.10677611\n",
      "  1.83779148  1.60702424 -1.0075673  -0.58745524  0.32803998 -0.74265287]\n",
      "eval_val: 0.18553361637887578\n",
      "index: 139\n",
      "eval_count: 140\n",
      "var_params: [ 0.31048181 -0.02980668  0.826892    0.86605465 -1.76037877  1.10567459\n",
      "  1.83688027  1.6073045  -1.00871198 -0.58564542  0.32816047 -0.74330165]\n",
      "eval_val: 0.185726263549852\n",
      "index: 140\n",
      "eval_count: 141\n",
      "var_params: [ 0.30981544 -0.02775522  0.82626209  0.86412904 -1.76090237  1.10659196\n",
      "  1.83723452  1.60768308 -1.00642043 -0.58657681  0.32838241 -0.74137043]\n",
      "eval_val: 0.18536360369604504\n",
      "index: 141\n",
      "eval_count: 142\n",
      "var_params: [ 0.30983315 -0.02795223  0.82652465  0.86400853 -1.7615035   1.10688704\n",
      "  1.83753966  1.60759137 -1.00625048 -0.5867393   0.32851701 -0.74182621]\n",
      "eval_val: 0.1854701613496453\n",
      "index: 142\n",
      "eval_count: 143\n",
      "var_params: [ 0.30948484 -0.02749629  0.82617164  0.86400092 -1.76095178  1.107842\n",
      "  1.83632737  1.60741698 -1.00706653 -0.58606321  0.32896393 -0.74100221]\n",
      "eval_val: 0.18550339121474024\n",
      "index: 143\n",
      "eval_count: 144\n",
      "var_params: [ 0.31003373 -0.02803786  0.8264301   0.86383684 -1.7607467   1.10679118\n",
      "  1.83670054  1.60787754 -1.00628709 -0.58691169  0.32795788 -0.74149496]\n",
      "eval_val: 0.18532648705025892\n",
      "index: 144\n",
      "eval_count: 145\n",
      "var_params: [ 0.30937449 -0.02945601  0.82593574  0.86345585 -1.76073633  1.10662275\n",
      "  1.8369185   1.60781058 -1.0063032  -0.58721699  0.32811644 -0.7406116 ]\n",
      "eval_val: 0.18523893912983205\n",
      "index: 145\n",
      "eval_count: 146\n",
      "var_params: [ 0.30899651 -0.02923891  0.82643643  0.8634894  -1.76044057  1.10667017\n",
      "  1.83705692  1.60767198 -1.00647887 -0.58779379  0.32821571 -0.74050993]\n",
      "eval_val: 0.18524659913776403\n",
      "index: 146\n",
      "eval_count: 147\n",
      "var_params: [ 0.30957288 -0.030332    0.82657718  0.86403917 -1.76032521  1.1057732\n",
      "  1.83670257  1.6081426  -1.00720787 -0.5867877   0.32766747 -0.74054555]\n",
      "eval_val: 0.1853281418084574\n",
      "index: 147\n",
      "eval_count: 148\n",
      "var_params: [ 0.30974023 -0.0295192   0.82595412  0.86382469 -1.7607263   1.10702987\n",
      "  1.83721406  1.60747523 -1.00627435 -0.5872658   0.3277062  -0.74023428]\n",
      "eval_val: 0.18517405944956003\n",
      "index: 148\n",
      "eval_count: 149\n",
      "var_params: [ 0.30996386 -0.02930448  0.82538118  0.8647153  -1.76142663  1.106621\n",
      "  1.83655856  1.60775688 -1.00612991 -0.5882837   0.32776647 -0.73962609]\n",
      "eval_val: 0.18531639429264338\n",
      "index: 149\n",
      "eval_count: 150\n",
      "var_params: [ 0.31008532 -0.02949252  0.82610983  0.86348974 -1.76085404  1.10666012\n",
      "  1.83699775  1.60680411 -1.00631543 -0.58728814  0.32786622 -0.74009492]\n",
      "eval_val: 0.18539489532771536\n",
      "index: 150\n",
      "eval_count: 151\n",
      "var_params: [ 0.31011032 -0.02975409  0.82579452  0.86399873 -1.75952615  1.10750966\n",
      "  1.83773932  1.60831549 -1.00542943 -0.5872401   0.32806632 -0.73996958]\n",
      "eval_val: 0.18524443984687203\n",
      "index: 151\n",
      "eval_count: 152\n",
      "var_params: [ 0.30912305 -0.02946524  0.82584258  0.86397189 -1.76063108  1.10704733\n",
      "  1.83717042  1.60736104 -1.00590387 -0.58706667  0.32708995 -0.74026696]\n",
      "eval_val: 0.18517854594980507\n",
      "index: 152\n",
      "eval_count: 153\n",
      "var_params: [ 0.30983522 -0.02944855  0.82583265  0.86367202 -1.76071543  1.106809\n",
      "  1.83747966  1.6075525  -1.00630553 -0.58742133  0.32749972 -0.74030296]\n",
      "eval_val: 0.18514623529532453\n",
      "index: 153\n",
      "eval_count: 154\n",
      "var_params: [ 0.3097002  -0.02931371  0.8254772   0.86344156 -1.76067388  1.10731385\n",
      "  1.83751927  1.60779969 -1.0069315  -0.5873943   0.32726608 -0.74016985]\n",
      "eval_val: 0.1851002729143692\n",
      "index: 154\n",
      "eval_count: 155\n",
      "var_params: [ 0.30969466 -0.02921127  0.8257002   0.86330219 -1.76084627  1.10728795\n",
      "  1.83754894  1.60799602 -1.00685142 -0.58728178  0.32721074 -0.7398899 ]\n",
      "eval_val: 0.18503087754929398\n",
      "index: 155\n",
      "eval_count: 156\n",
      "var_params: [ 0.30960641 -0.02951926  0.82598344  0.86328096 -1.76141711  1.10764358\n",
      "  1.83797304  1.60829232 -1.0067983  -0.5873885   0.32707664 -0.74014386]\n",
      "eval_val: 0.18512824019360333\n",
      "index: 156\n",
      "eval_count: 157\n",
      "var_params: [ 0.30956632 -0.02901064  0.8255273   0.86332664 -1.76096812  1.10732434\n",
      "  1.83779639  1.60787097 -1.00677582 -0.58721262  0.3274464  -0.73982899]\n",
      "eval_val: 0.18507128740387585\n",
      "index: 157\n",
      "eval_count: 158\n",
      "var_params: [ 0.30962165 -0.02931167  0.82586758  0.86377217 -1.76071693  1.10687213\n",
      "  1.83780428  1.60820246 -1.00733704 -0.58687532  0.32714495 -0.73970858]\n",
      "eval_val: 0.18510361874061657\n",
      "index: 158\n",
      "eval_count: 159\n",
      "var_params: [ 0.30982007 -0.0289317   0.82587691  0.86328426 -1.76076318  1.10738416\n",
      "  1.83758861  1.60796849 -1.00686448 -0.58709013  0.32715897 -0.74014777]\n",
      "eval_val: 0.18507128740387585\n",
      "index: 159\n",
      "eval_count: 160\n",
      "var_params: [ 0.30986367 -0.02874211  0.82552147  0.86372057 -1.76109136  1.10724181\n",
      "  1.83719346  1.60838626 -1.00676497 -0.58766766  0.32705544 -0.73973825]\n",
      "eval_val: 0.18510382921364038\n",
      "index: 160\n",
      "eval_count: 161\n",
      "var_params: [ 0.30984028 -0.02935878  0.82562752  0.86307832 -1.76022685  1.10748433\n",
      "  1.83771841  1.60842032 -1.00646322 -0.58726728  0.32725287 -0.73954645]\n",
      "eval_val: 0.18512255747247813\n",
      "index: 161\n",
      "time taken: \n",
      "49.956532441000036\n",
      "testing success ratio: 1.0\n"
     ]
    }
   ],
   "source": [
    "start = time.process_time()\n",
    "\n",
    "result = vqc.run(quantum_instance)\n",
    "\n",
    "print(\"time taken: \")\n",
    "print(time.process_time() - start)\n",
    "\n",
    "\n",
    "print(\"testing success ratio: {}\".format(result['testing_accuracy']))"
   ]
  },
  {
   "cell_type": "code",
   "execution_count": 26,
   "metadata": {},
   "outputs": [
    {
     "name": "stdout",
     "output_type": "stream",
     "text": [
      "prediction of datapoints:\n",
      "ground truth: ['A', 'A', 'A', 'A', 'A', 'B', 'B', 'B', 'B', 'B']\n",
      "prediction:   ['A', 'A', 'A', 'A', 'A', 'B', 'B', 'B', 'B', 'B']\n"
     ]
    }
   ],
   "source": [
    "print(\"prediction of datapoints:\")\n",
    "print(\"ground truth: {}\".format(map_label_to_class_name(datapoints[1], vqc.label_to_class)))\n",
    "print(\"prediction:   {}\".format(result['predicted_classes']))"
   ]
  },
  {
   "cell_type": "markdown",
   "metadata": {},
   "source": [
    "As you can see we seem to get a pretty good accuracy, but that is because we have used such a small training and testing set along with the fact that digits `0` and `1` are so far apart making it easy to classify them. Its your turn to play around with the options that you have and create better feature maps, variational circuit, assigning the correct optimization routine, etc. Have fun! "
   ]
  },
  {
   "cell_type": "code",
   "execution_count": null,
   "metadata": {},
   "outputs": [],
   "source": []
  }
 ],
 "metadata": {
  "kernelspec": {
   "display_name": "Python 3",
   "language": "python",
   "name": "python3"
  },
  "language_info": {
   "codemirror_mode": {
    "name": "ipython",
    "version": 3
   },
   "file_extension": ".py",
   "mimetype": "text/x-python",
   "name": "python",
   "nbconvert_exporter": "python",
   "pygments_lexer": "ipython3",
   "version": "3.8.2"
  }
 },
 "nbformat": 4,
 "nbformat_minor": 4
}
